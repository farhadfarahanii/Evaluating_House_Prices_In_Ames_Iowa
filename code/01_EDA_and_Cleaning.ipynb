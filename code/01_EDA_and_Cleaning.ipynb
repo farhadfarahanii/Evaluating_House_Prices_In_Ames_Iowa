{
 "cells": [
  {
   "cell_type": "markdown",
   "id": "d7e165dc",
   "metadata": {},
   "source": [
    "# A Comprehensive Study of the Factors that Affect Home Prices in Ames, Iowa"
   ]
  },
  {
   "cell_type": "markdown",
   "id": "c5eb57d7",
   "metadata": {},
   "source": [
    "## Problem Statement\n",
    "As a realtor company operating in Ames, Iowa, our goal is to help our clients make informed decisions when buying or selling a home. One of the key factors that our clients consider is the price of the property, and we want to develop a reliable regression model that can accurately predict the prices of homes in this area. By analyzing a dataset of previous home sales in Ames and identifying the key features that impact home prices, we aim to create a regression model that can be used to predict future prices based on a variety of property characteristics. Our ultimate goal is to provide our clients with a powerful tool that can help them make smart and profitable real estate decisions."
   ]
  },
  {
   "cell_type": "markdown",
   "id": "9454607a",
   "metadata": {},
   "source": [
    "## Background\n",
    "The real estate market in Ames, Iowa has seen significant growth over the past decade, with a steady increase in home prices and a high demand for quality housing. As a result, there is a growing need for accurate predictions of home prices in this area, both for home buyers looking to make a wise investment and for realtors seeking to offer valuable insights to their clients.\n",
    "\n",
    "To address this need, our realtor company is undertaking a project to develop a regression model that can predict home prices in Ames based on a variety of key factors. By analyzing a dataset of past home sales and identifying the most significant features that impact home prices, we aim to build a reliable and accurate model that can help our clients make informed decisions about their real estate investments.\n",
    "\n",
    "This project represents a significant opportunity for our company to provide a valuable service to our clients, while also gaining a deeper understanding of the complex factors that drive home prices in the Ames real estate market. Through careful analysis and rigorous testing, we believe that we can develop a powerful tool that will help our clients maximize their investments and achieve their real estate goals."
   ]
  },
  {
   "cell_type": "markdown",
   "id": "ce2717a4",
   "metadata": {},
   "source": [
    "## Contents:"
   ]
  },
  {
   "cell_type": "markdown",
   "id": "8e023bb9",
   "metadata": {},
   "source": [
    "## Datasets\n",
    "The raw dataset provided from [Kaggle](https://www.kaggle.com/c/house-prices-advanced-regression-techniques): consisting 81 features that could impact on house prices."
   ]
  },
  {
   "cell_type": "markdown",
   "id": "e8ab55e5",
   "metadata": {},
   "source": [
    "|Feature|Type|Description|\n",
    "|---|---|---|\n",
    "|SalePrice|Numeric(Continious)|the property's sale price in dollars. This is the target variable that you're trying to predict|.\n",
    "|MSSubClass|Numeric(Discrete)|The building class|\n",
    "|MSZoning|Object(Cetagorical)|The general zoning classification|\n",
    "|LotFrontage|Numeric(Continious)|Linear feet of street connected to property|\n",
    "|LotArea|Numeric(Continious)|Lot size in square feet|\n",
    "|Street|Object(Cetagorical)|Type of road access|\n",
    "|Alley|Object(Cetagorical)|Type of alley access|\n",
    "|LotShape|Object(Cetagorical)|General shape of property|\n",
    "|LandContour|Object(Categorical)|Flatness of the property|\n",
    "|Utilities|Object(Categorical)|Type of utilities available|\n",
    "|LotConfig|Object(Categorical)|Lot configuration|\n",
    "|LandSlope|Object(Categorical)|Slope of property|\n",
    "|Neighborhood|Object(Categorical)|Physical locations within Ames city limits|\n",
    "|Condition1|Object(Categorical)|Proximity to main road or railroad|\n",
    "|Condition2|Object(Categorical)|Proximity to main road or railroad (if a second is present)|\n",
    "|BldgType|Object(Categorical)|Type of dwelling|\n",
    "|HouseStyle|Object(Categorical)|Style of dwelling|\n",
    "|OverallQual|Numeric(Discrete)|Overall material and finish quality|\n",
    "|OverallCond|Numeric(Discrete)|Overall condition rating|\n",
    "|YearBuilt|Numeric(Discrete)|Original construction date|\n",
    "|YearRemodAdd|Numeric(Discrete)|Remodel date|\n",
    "|RoofStyle|Object(Categorical)|Type of roof|\n",
    "|RoofMatl|Object(Categorical)|Roof material|\n",
    "|Exterior1st|Object(Categorical)|Exterior covering on house|\n",
    "|Exterior2nd|Object(Categorical)|Exterior covering on house (if more than one material)|\n",
    "|MasVnrType|Object(Categorical)|Masonry veneer type|\n",
    "|MasVnrArea|Numeric(Continious)|Masonry veneer area in square feet|\n",
    "|ExterQual|Object(Categorical)|Exterior material quality|\n",
    "|ExterCond|Object(Categorical)|Present condition of the material on the exterior|\n",
    "|Foundation|Object(Categorical)|Type of foundation|\n",
    "|BsmtQual|Object(Categorical)|Height of the basement|\n",
    "|BsmtCond|Object(Categorical)|General condition of the basement|\n",
    "|BsmtExposure|Object(Categorical)|Walkout or garden level basement walls|\n",
    "|BsmtFinType1|Object(Categorical)|Quality of basement finished area|\n",
    "|BsmtFinSF1|Numeric(Continious)|Type 1 finished square feet|\n",
    "|BsmtFinType2|Object(Categorical)|Quality of second finished area (if present)|\n",
    "|BsmtFinSF2|Numeric(Continious)|Type 2 finished square feet|\n",
    "|BsmtUnfSF|Numeric(Continious)|Unfinished square feet of basement area|\n",
    "|TotalBsmtSF|Numeric(Continious)|Total square feet of basement area|\n",
    "|Heating|Object(Categorical)|Type of heating|\n",
    "|HeatingQC|Object(Categorical)|Heating quality and condition|\n",
    "|CentralAir|Object(Categorical)|Central air conditioning|\n",
    "|Electrical|Object(Categorical)|Electrical system|\n",
    "|1stFlrSF|Numeric(Continious)|First Floor square feet|\n",
    "|2ndFlrSF|Numeric(Continious)|Second floor square feet|\n",
    "|LowQualFinSF|Numeric(Continious)|Low quality finished square feet (all floors)|\n",
    "|GrLivArea|Numeric(Continious)|Above grade (ground) living area square feet|\n",
    "|BsmtFullBath|Numeric(Discrete)|Basement full bathrooms|\n",
    "|BsmtHalfBath|Numeric(Discrete)|Basement half bathrooms|\n",
    "|FullBath|Numeric(Discrete)|Full bathrooms above grade|\n",
    "|HalfBath|Numeric(Discrete)|Half baths above grade|\n",
    "|Bedroom|Numeric(Discrete)|Number of bedrooms above basement level|\n",
    "|Kitchen|Numeric(Discrete)|Number of kitchens|\n",
    "|KitchenQual|Object(Categorical)|Kitchen quality|\n",
    "|TotRmsAbvGrd|Numeric(Discrete)|Total rooms above grade (does not include bathrooms)|\n",
    "|Functional|Object(Categorical)|Home functionality rating|\n",
    "|Fireplaces|Numeric(Discrete)|Number of fireplaces|\n",
    "|FireplaceQu|Object(Categorical)|Fireplace quality|\n",
    "|GarageType|Object(Categorical)|Garage location|\n",
    "|GarageYrBlt|Numeric(Discrete)|Year garage was built|\n",
    "|GarageFinish|Object(Categorical)|Interior finish of the garage|\n",
    "|GarageCars|Numeric(Discrete)|Size of garage in car capacity|\n",
    "|GarageArea|Numeric(Continious)|Size of garage in square feet|\n",
    "|GarageQual|Object(Categorical)|Garage quality|\n",
    "|GarageCond|Object(Categorical)|Garage condition|\n",
    "|PavedDrive|Object(Categorical)|Paved driveway|\n",
    "|WoodDeckSF|Numeric(Continious)|Wood deck area in square feet|\n",
    "|OpenPorchSF|Numeric(Continious)|Open porch area in square feet|\n",
    "|EnclosedPorch|Numeric(Continious)|Enclosed porch area in square feet|\n",
    "|3SsnPorch|Numeric(Continious)|Three season porch area in square feet|\n",
    "|ScreenPorch|Numeric(Continious)|Screen porch area in square feet|\n",
    "|PoolArea|Numeric(Continious)|Pool area in square feet|\n",
    "|PoolQC|Object(Categorical)|Pool quality|\n",
    "|Fence|Object(Categorical)|Fence quality|\n",
    "|MiscFeature|Object(Categorical)|Miscellaneous feature not covered in other categories|\n",
    "|MiscVal|Numeric(Continious)|$Value of miscellaneous feature|\n",
    "|MoSold|Numeric(Discrete)|Month Sold|\n",
    "|YrSold|Numeric(Discrete)|Year Sold|\n",
    "|SaleType|Object(Categorical)|Type of sale|\n",
    "|SaleCondition|: |Condition of sale|"
   ]
  },
  {
   "cell_type": "markdown",
   "id": "b22633e3",
   "metadata": {},
   "source": [
    "## Imports"
   ]
  },
  {
   "cell_type": "code",
   "execution_count": 4,
   "id": "949f2b30",
   "metadata": {},
   "outputs": [],
   "source": [
    "import pandas as pd\n",
    "import matplotlib.pyplot as plt\n",
    "import seaborn as sns\n",
    "import numpy as np\n",
    "\n",
    "from sklearn.linear_model import LinearRegression, RidgeCV, Lasso, LassoCV\n",
    "from sklearn.preprocessing import PolynomialFeatures, StandardScaler, OneHotEncoder\n",
    "from sklearn.model_selection import train_test_split, cross_val_score\n",
    "from sklearn.compose import ColumnTransformer\n",
    "\n",
    "pd.set_option(\"display.max_colwidth\", None)\n",
    "     "
   ]
  },
  {
   "cell_type": "markdown",
   "id": "72fc08a9",
   "metadata": {},
   "source": [
    "## Functions"
   ]
  },
  {
   "cell_type": "code",
   "execution_count": 18,
   "id": "7eed5399",
   "metadata": {},
   "outputs": [
    {
     "ename": "SyntaxError",
     "evalue": "EOL while scanning string literal (3403117564.py, line 5)",
     "output_type": "error",
     "traceback": [
      "\u001b[1;36m  File \u001b[1;32m\"C:\\Users\\sarvin.farhad\\AppData\\Local\\Temp\\ipykernel_2832\\3403117564.py\"\u001b[1;36m, line \u001b[1;32m5\u001b[0m\n\u001b[1;33m    plt.title(\"Distribution of \"\" + titlename)\u001b[0m\n\u001b[1;37m                                              ^\u001b[0m\n\u001b[1;31mSyntaxError\u001b[0m\u001b[1;31m:\u001b[0m EOL while scanning string literal\n"
     ]
    }
   ],
   "source": [
    "# Function for plotting histogram\n",
    "def his_dis(column, titlename, x, bins, color):    \n",
    "    plt.figure(figsize=(12,8))\n",
    "    plt.hist(column, bins=bins, edgecolor='black', color=color)\n",
    "    plt.title(\"Distribution of \"\" + titlename)\n",
    "    plt.xlabel(x)\n",
    "    plt.ylabel(\"Frequencies\");"
   ]
  },
  {
   "cell_type": "markdown",
   "id": "39b96bb3",
   "metadata": {},
   "source": [
    "## Exploratory Data Analysis (EDA) and Pre-Processing"
   ]
  },
  {
   "cell_type": "markdown",
   "id": "0d539f9d",
   "metadata": {},
   "source": [
    "### Load Data"
   ]
  },
  {
   "cell_type": "code",
   "execution_count": null,
   "id": "a802c437",
   "metadata": {},
   "outputs": [],
   "source": [
    "# Determine data path\n",
    "data_path = '../data/train.csv'"
   ]
  },
  {
   "cell_type": "code",
   "execution_count": 6,
   "id": "cfefe1a2",
   "metadata": {},
   "outputs": [
    {
     "name": "stdout",
     "output_type": "stream",
     "text": [
      "Sample Data :    Id        PID  MS SubClass MS Zoning  Lot Frontage  Lot Area Street Alley  \\\n",
      "0  109  533352170           60        RL           NaN     13517   Pave   NaN   \n",
      "1  544  531379050           60        RL          43.0     11492   Pave   NaN   \n",
      "2  153  535304180           20        RL          68.0      7922   Pave   NaN   \n",
      "3  318  916386060           60        RL          73.0      9802   Pave   NaN   \n",
      "4  255  906425045           50        RL          82.0     14235   Pave   NaN   \n",
      "\n",
      "  Lot Shape Land Contour  ... Screen Porch Pool Area Pool QC Fence  \\\n",
      "0       IR1          Lvl  ...            0         0     NaN   NaN   \n",
      "1       IR1          Lvl  ...            0         0     NaN   NaN   \n",
      "2       Reg          Lvl  ...            0         0     NaN   NaN   \n",
      "3       Reg          Lvl  ...            0         0     NaN   NaN   \n",
      "4       IR1          Lvl  ...            0         0     NaN   NaN   \n",
      "\n",
      "  Misc Feature Misc Val Mo Sold Yr Sold  Sale Type  SalePrice  \n",
      "0          NaN        0       3    2010        WD      130500  \n",
      "1          NaN        0       4    2009        WD      220000  \n",
      "2          NaN        0       1    2010        WD      109000  \n",
      "3          NaN        0       4    2010        WD      174000  \n",
      "4          NaN        0       3    2010        WD      138500  \n",
      "\n",
      "[5 rows x 81 columns]\n",
      "\n",
      "--------------------------\n",
      "\n",
      " Columns : ['Id', 'PID', 'MS SubClass', 'MS Zoning', 'Lot Frontage', 'Lot Area', 'Street', 'Alley', 'Lot Shape', 'Land Contour', 'Utilities', 'Lot Config', 'Land Slope', 'Neighborhood', 'Condition 1', 'Condition 2', 'Bldg Type', 'House Style', 'Overall Qual', 'Overall Cond', 'Year Built', 'Year Remod/Add', 'Roof Style', 'Roof Matl', 'Exterior 1st', 'Exterior 2nd', 'Mas Vnr Type', 'Mas Vnr Area', 'Exter Qual', 'Exter Cond', 'Foundation', 'Bsmt Qual', 'Bsmt Cond', 'Bsmt Exposure', 'BsmtFin Type 1', 'BsmtFin SF 1', 'BsmtFin Type 2', 'BsmtFin SF 2', 'Bsmt Unf SF', 'Total Bsmt SF', 'Heating', 'Heating QC', 'Central Air', 'Electrical', '1st Flr SF', '2nd Flr SF', 'Low Qual Fin SF', 'Gr Liv Area', 'Bsmt Full Bath', 'Bsmt Half Bath', 'Full Bath', 'Half Bath', 'Bedroom AbvGr', 'Kitchen AbvGr', 'Kitchen Qual', 'TotRms AbvGrd', 'Functional', 'Fireplaces', 'Fireplace Qu', 'Garage Type', 'Garage Yr Blt', 'Garage Finish', 'Garage Cars', 'Garage Area', 'Garage Qual', 'Garage Cond', 'Paved Drive', 'Wood Deck SF', 'Open Porch SF', 'Enclosed Porch', '3Ssn Porch', 'Screen Porch', 'Pool Area', 'Pool QC', 'Fence', 'Misc Feature', 'Misc Val', 'Mo Sold', 'Yr Sold', 'Sale Type', 'SalePrice']\n",
      "\n",
      "--------------------------\n",
      "\n",
      " Size of the dataset : 2051\n",
      "\n",
      "--------------------------\n",
      "\n",
      " Total number of features : 81\n",
      "\n",
      "--------------------------\n",
      "\n",
      " Number of numerical features: 39\n",
      "\n",
      "--------------------------\n",
      "\n",
      " Number of categorical features: 42\n"
     ]
    }
   ],
   "source": [
    "# Read captions data\n",
    "df_train = pd.read_csv(data_path)\n",
    "\n",
    "# 5 Samples of data \n",
    "print(f\"Sample Data :{df_train.head()}\")\n",
    "\n",
    "print(f\"\\n--------------------------\\n\\n Columns : {[i for i in df_train.columns]}\")\n",
    "print(f\"\\n--------------------------\\n\\n Size of the dataset : {df_train.shape[0]}\")\n",
    "print(f\"\\n--------------------------\\n\\n Total number of features : {df_train.shape[1]}\")\n",
    "print(f\"\\n--------------------------\\n\\n Number of numerical features: {df_train.select_dtypes(include=[int, float]).shape[1]}\")\n",
    "print(f\"\\n--------------------------\\n\\n Number of categorical features: {df_train.select_dtypes(include=[object]).shape[1]}\")"
   ]
  },
  {
   "cell_type": "code",
   "execution_count": 7,
   "id": "b804c78b",
   "metadata": {},
   "outputs": [],
   "source": [
    "# Lower case column names and remove spaces \n",
    "#df_train.columns = df_train.columns.str.lower().str.replace(\" \", \"_\")"
   ]
  },
  {
   "cell_type": "code",
   "execution_count": 8,
   "id": "912324aa",
   "metadata": {},
   "outputs": [],
   "source": [
    "# Define numberical and categorical dataframes\n",
    "df_num = df_train.select_dtypes(include = [int, float])\n",
    "df_cat = df_train.select_dtypes(include = [object])"
   ]
  },
  {
   "cell_type": "code",
   "execution_count": 15,
   "id": "479b18b0",
   "metadata": {},
   "outputs": [
    {
     "data": {
      "text/plain": [
       "'Id'"
      ]
     },
     "execution_count": 15,
     "metadata": {},
     "output_type": "execute_result"
    }
   ],
   "source": [
    "df_train.columns[0]"
   ]
  },
  {
   "cell_type": "code",
   "execution_count": 17,
   "id": "6b3d2971",
   "metadata": {},
   "outputs": [
    {
     "name": "stdout",
     "output_type": "stream",
     "text": [
      "<class 'pandas.core.frame.DataFrame'>\n",
      "RangeIndex: 2051 entries, 0 to 2050\n",
      "Data columns (total 81 columns):\n",
      " #   Column           Non-Null Count  Dtype  \n",
      "---  ------           --------------  -----  \n",
      " 0   Id               2051 non-null   int64  \n",
      " 1   PID              2051 non-null   int64  \n",
      " 2   MS SubClass      2051 non-null   int64  \n",
      " 3   MS Zoning        2051 non-null   object \n",
      " 4   Lot Frontage     1721 non-null   float64\n",
      " 5   Lot Area         2051 non-null   int64  \n",
      " 6   Street           2051 non-null   object \n",
      " 7   Alley            140 non-null    object \n",
      " 8   Lot Shape        2051 non-null   object \n",
      " 9   Land Contour     2051 non-null   object \n",
      " 10  Utilities        2051 non-null   object \n",
      " 11  Lot Config       2051 non-null   object \n",
      " 12  Land Slope       2051 non-null   object \n",
      " 13  Neighborhood     2051 non-null   object \n",
      " 14  Condition 1      2051 non-null   object \n",
      " 15  Condition 2      2051 non-null   object \n",
      " 16  Bldg Type        2051 non-null   object \n",
      " 17  House Style      2051 non-null   object \n",
      " 18  Overall Qual     2051 non-null   int64  \n",
      " 19  Overall Cond     2051 non-null   int64  \n",
      " 20  Year Built       2051 non-null   int64  \n",
      " 21  Year Remod/Add   2051 non-null   int64  \n",
      " 22  Roof Style       2051 non-null   object \n",
      " 23  Roof Matl        2051 non-null   object \n",
      " 24  Exterior 1st     2051 non-null   object \n",
      " 25  Exterior 2nd     2051 non-null   object \n",
      " 26  Mas Vnr Type     2029 non-null   object \n",
      " 27  Mas Vnr Area     2029 non-null   float64\n",
      " 28  Exter Qual       2051 non-null   object \n",
      " 29  Exter Cond       2051 non-null   object \n",
      " 30  Foundation       2051 non-null   object \n",
      " 31  Bsmt Qual        1996 non-null   object \n",
      " 32  Bsmt Cond        1996 non-null   object \n",
      " 33  Bsmt Exposure    1993 non-null   object \n",
      " 34  BsmtFin Type 1   1996 non-null   object \n",
      " 35  BsmtFin SF 1     2050 non-null   float64\n",
      " 36  BsmtFin Type 2   1995 non-null   object \n",
      " 37  BsmtFin SF 2     2050 non-null   float64\n",
      " 38  Bsmt Unf SF      2050 non-null   float64\n",
      " 39  Total Bsmt SF    2050 non-null   float64\n",
      " 40  Heating          2051 non-null   object \n",
      " 41  Heating QC       2051 non-null   object \n",
      " 42  Central Air      2051 non-null   object \n",
      " 43  Electrical       2051 non-null   object \n",
      " 44  1st Flr SF       2051 non-null   int64  \n",
      " 45  2nd Flr SF       2051 non-null   int64  \n",
      " 46  Low Qual Fin SF  2051 non-null   int64  \n",
      " 47  Gr Liv Area      2051 non-null   int64  \n",
      " 48  Bsmt Full Bath   2049 non-null   float64\n",
      " 49  Bsmt Half Bath   2049 non-null   float64\n",
      " 50  Full Bath        2051 non-null   int64  \n",
      " 51  Half Bath        2051 non-null   int64  \n",
      " 52  Bedroom AbvGr    2051 non-null   int64  \n",
      " 53  Kitchen AbvGr    2051 non-null   int64  \n",
      " 54  Kitchen Qual     2051 non-null   object \n",
      " 55  TotRms AbvGrd    2051 non-null   int64  \n",
      " 56  Functional       2051 non-null   object \n",
      " 57  Fireplaces       2051 non-null   int64  \n",
      " 58  Fireplace Qu     1051 non-null   object \n",
      " 59  Garage Type      1938 non-null   object \n",
      " 60  Garage Yr Blt    1937 non-null   float64\n",
      " 61  Garage Finish    1937 non-null   object \n",
      " 62  Garage Cars      2050 non-null   float64\n",
      " 63  Garage Area      2050 non-null   float64\n",
      " 64  Garage Qual      1937 non-null   object \n",
      " 65  Garage Cond      1937 non-null   object \n",
      " 66  Paved Drive      2051 non-null   object \n",
      " 67  Wood Deck SF     2051 non-null   int64  \n",
      " 68  Open Porch SF    2051 non-null   int64  \n",
      " 69  Enclosed Porch   2051 non-null   int64  \n",
      " 70  3Ssn Porch       2051 non-null   int64  \n",
      " 71  Screen Porch     2051 non-null   int64  \n",
      " 72  Pool Area        2051 non-null   int64  \n",
      " 73  Pool QC          9 non-null      object \n",
      " 74  Fence            400 non-null    object \n",
      " 75  Misc Feature     65 non-null     object \n",
      " 76  Misc Val         2051 non-null   int64  \n",
      " 77  Mo Sold          2051 non-null   int64  \n",
      " 78  Yr Sold          2051 non-null   int64  \n",
      " 79  Sale Type        2051 non-null   object \n",
      " 80  SalePrice        2051 non-null   int64  \n",
      "dtypes: float64(11), int64(28), object(42)\n",
      "memory usage: 1.3+ MB\n"
     ]
    }
   ],
   "source": [
    "df_train.info()"
   ]
  },
  {
   "cell_type": "code",
   "execution_count": 16,
   "id": "d81d160b",
   "metadata": {},
   "outputs": [
    {
     "name": "stdout",
     "output_type": "stream",
     "text": [
      "109     1\n",
      "1377    1\n",
      "1521    1\n",
      "1719    1\n",
      "1221    1\n",
      "       ..\n",
      "1965    1\n",
      "1598    1\n",
      "1796    1\n",
      "2619    1\n",
      "10      1\n",
      "Name: Id, Length: 2051, dtype: int64\n",
      "533352170    1\n",
      "905100020    1\n",
      "909201110    1\n",
      "528174040    1\n",
      "534451170    1\n",
      "            ..\n",
      "535453150    1\n",
      "923225370    1\n",
      "528458080    1\n",
      "535426195    1\n",
      "527162130    1\n",
      "Name: PID, Length: 2051, dtype: int64\n",
      "20     770\n",
      "60     394\n",
      "50     198\n",
      "120    132\n",
      "30     101\n",
      "70      90\n",
      "160     88\n",
      "80      86\n",
      "90      75\n",
      "190     46\n",
      "85      28\n",
      "75      16\n",
      "180     11\n",
      "45      11\n",
      "40       4\n",
      "150      1\n",
      "Name: MS SubClass, dtype: int64\n",
      "RL         1598\n",
      "RM          316\n",
      "FV          101\n",
      "C (all)      19\n",
      "RH           14\n",
      "A (agr)       2\n",
      "I (all)       1\n",
      "Name: MS Zoning, dtype: int64\n",
      "60.0     179\n",
      "70.0      96\n",
      "80.0      94\n",
      "50.0      90\n",
      "65.0      71\n",
      "        ... \n",
      "118.0      1\n",
      "137.0      1\n",
      "195.0      1\n",
      "115.0      1\n",
      "135.0      1\n",
      "Name: Lot Frontage, Length: 118, dtype: int64\n",
      "9600     34\n",
      "7200     27\n",
      "6000     26\n",
      "10800    19\n",
      "9000     18\n",
      "         ..\n",
      "8765      1\n",
      "10337     1\n",
      "7614      1\n",
      "7315      1\n",
      "7558      1\n",
      "Name: Lot Area, Length: 1476, dtype: int64\n",
      "Pave    2044\n",
      "Grvl       7\n",
      "Name: Street, dtype: int64\n",
      "Grvl    85\n",
      "Pave    55\n",
      "Name: Alley, dtype: int64\n",
      "Reg    1295\n",
      "IR1     692\n",
      "IR2      55\n",
      "IR3       9\n",
      "Name: Lot Shape, dtype: int64\n",
      "Lvl    1843\n",
      "HLS      85\n",
      "Bnk      80\n",
      "Low      43\n",
      "Name: Land Contour, dtype: int64\n",
      "AllPub    2049\n",
      "NoSeWa       1\n",
      "NoSewr       1\n",
      "Name: Utilities, dtype: int64\n",
      "Inside     1503\n",
      "Corner      348\n",
      "CulDSac     131\n",
      "FR2          60\n",
      "FR3           9\n",
      "Name: Lot Config, dtype: int64\n",
      "Gtl    1953\n",
      "Mod      88\n",
      "Sev      10\n",
      "Name: Land Slope, dtype: int64\n",
      "NAmes      310\n",
      "CollgCr    180\n",
      "OldTown    163\n",
      "Edwards    143\n",
      "Somerst    130\n",
      "NridgHt    122\n",
      "Gilbert    116\n",
      "Sawyer     111\n",
      "NWAmes      87\n",
      "SawyerW     87\n",
      "Mitchel     82\n",
      "BrkSide     76\n",
      "Crawfor     71\n",
      "IDOTRR      69\n",
      "NoRidge     48\n",
      "Timber      48\n",
      "StoneBr     38\n",
      "SWISU       32\n",
      "ClearCr     27\n",
      "MeadowV     24\n",
      "Blmngtn     22\n",
      "BrDale      19\n",
      "Veenker     17\n",
      "NPkVill     17\n",
      "Blueste      6\n",
      "Greens       3\n",
      "GrnHill      2\n",
      "Landmrk      1\n",
      "Name: Neighborhood, dtype: int64\n",
      "Norm      1767\n",
      "Feedr      109\n",
      "Artery      70\n",
      "RRAn        36\n",
      "PosN        27\n",
      "RRAe        21\n",
      "PosA        12\n",
      "RRNn         6\n",
      "RRNe         3\n",
      "Name: Condition 1, dtype: int64\n",
      "Norm      2025\n",
      "Feedr       11\n",
      "Artery       5\n",
      "PosA         3\n",
      "PosN         3\n",
      "RRNn         2\n",
      "RRAe         1\n",
      "RRAn         1\n",
      "Name: Condition 2, dtype: int64\n",
      "1Fam      1700\n",
      "TwnhsE     161\n",
      "Duplex      75\n",
      "Twnhs       69\n",
      "2fmCon      46\n",
      "Name: Bldg Type, dtype: int64\n",
      "1Story    1059\n",
      "2Story     598\n",
      "1.5Fin     218\n",
      "SLvl        94\n",
      "SFoyer      50\n",
      "2.5Unf      14\n",
      "1.5Unf      12\n",
      "2.5Fin       6\n",
      "Name: House Style, dtype: int64\n",
      "5     563\n",
      "6     506\n",
      "7     431\n",
      "8     250\n",
      "4     159\n",
      "9      77\n",
      "3      29\n",
      "10     23\n",
      "2       9\n",
      "1       4\n",
      "Name: Overall Qual, dtype: int64\n",
      "5    1168\n",
      "6     368\n",
      "7     270\n",
      "8     101\n",
      "4      70\n",
      "3      35\n",
      "9      29\n",
      "2       6\n",
      "1       4\n",
      "Name: Overall Cond, dtype: int64\n",
      "2005    102\n",
      "2006     99\n",
      "2007     78\n",
      "2004     72\n",
      "2003     64\n",
      "       ... \n",
      "2010      1\n",
      "1892      1\n",
      "1896      1\n",
      "1913      1\n",
      "1885      1\n",
      "Name: Year Built, Length: 113, dtype: int64\n",
      "1950    262\n",
      "2006    139\n",
      "2007    123\n",
      "2005    100\n",
      "2004     83\n",
      "       ... \n",
      "1986      9\n",
      "2010      8\n",
      "1983      7\n",
      "1981      6\n",
      "1982      3\n",
      "Name: Year Remod/Add, Length: 61, dtype: int64\n",
      "Gable      1619\n",
      "Hip         397\n",
      "Flat         13\n",
      "Gambrel      12\n",
      "Mansard       7\n",
      "Shed          3\n",
      "Name: Roof Style, dtype: int64\n",
      "CompShg    2025\n",
      "Tar&Grv      15\n",
      "WdShngl       5\n",
      "WdShake       4\n",
      "Membran       1\n",
      "ClyTile       1\n",
      "Name: Roof Matl, dtype: int64\n",
      "VinylSd    724\n",
      "MetalSd    331\n",
      "HdBoard    300\n",
      "Wd Sdng    276\n",
      "Plywood    152\n",
      "CemntBd     90\n",
      "BrkFace     64\n",
      "WdShing     45\n",
      "AsbShng     33\n",
      "Stucco      27\n",
      "BrkComm      3\n",
      "Stone        2\n",
      "CBlock       2\n",
      "ImStucc      1\n",
      "AsphShn      1\n",
      "Name: Exterior 1st, dtype: int64\n",
      "VinylSd    721\n",
      "MetalSd    324\n",
      "HdBoard    275\n",
      "Wd Sdng    262\n",
      "Plywood    185\n",
      "CmentBd     90\n",
      "Wd Shng     63\n",
      "BrkFace     34\n",
      "Stucco      30\n",
      "AsbShng     28\n",
      "Brk Cmn     17\n",
      "ImStucc     11\n",
      "Stone        6\n",
      "AsphShn      3\n",
      "CBlock       2\n",
      "Name: Exterior 2nd, dtype: int64\n",
      "None       1218\n",
      "BrkFace     630\n",
      "Stone       168\n",
      "BrkCmn       13\n",
      "Name: Mas Vnr Type, dtype: int64\n",
      "0.0      1216\n",
      "120.0      11\n",
      "176.0      10\n",
      "200.0      10\n",
      "108.0       9\n",
      "         ... \n",
      "142.0       1\n",
      "215.0       1\n",
      "235.0       1\n",
      "233.0       1\n",
      "426.0       1\n",
      "Name: Mas Vnr Area, Length: 373, dtype: int64\n",
      "TA    1247\n",
      "Gd     697\n",
      "Ex      81\n",
      "Fa      26\n",
      "Name: Exter Qual, dtype: int64\n",
      "TA    1778\n",
      "Gd     215\n",
      "Fa      49\n",
      "Ex       7\n",
      "Po       2\n",
      "Name: Exter Cond, dtype: int64\n",
      "PConc     926\n",
      "CBlock    863\n",
      "BrkTil    221\n",
      "Slab       34\n",
      "Stone       5\n",
      "Wood        2\n",
      "Name: Foundation, dtype: int64\n",
      "TA    887\n",
      "Gd    864\n",
      "Ex    184\n",
      "Fa     60\n",
      "Po      1\n",
      "Name: Bsmt Qual, dtype: int64\n",
      "TA    1834\n",
      "Gd      89\n",
      "Fa      65\n",
      "Po       5\n",
      "Ex       3\n",
      "Name: Bsmt Cond, dtype: int64\n",
      "No    1339\n",
      "Av     288\n",
      "Gd     203\n",
      "Mn     163\n",
      "Name: Bsmt Exposure, dtype: int64\n",
      "GLQ    615\n",
      "Unf    603\n",
      "ALQ    293\n",
      "BLQ    200\n",
      "Rec    183\n",
      "LwQ    102\n",
      "Name: BsmtFin Type 1, dtype: int64\n",
      "0.0       657\n",
      "24.0       17\n",
      "16.0       10\n",
      "384.0       7\n",
      "20.0        7\n",
      "         ... \n",
      "380.0       1\n",
      "223.0       1\n",
      "631.0       1\n",
      "1053.0      1\n",
      "155.0       1\n",
      "Name: BsmtFin SF 1, Length: 821, dtype: int64\n",
      "Unf    1749\n",
      "Rec      80\n",
      "LwQ      60\n",
      "BLQ      48\n",
      "ALQ      35\n",
      "GLQ      23\n",
      "Name: BsmtFin Type 2, dtype: int64\n",
      "0.0       1803\n",
      "294.0        5\n",
      "483.0        3\n",
      "72.0         3\n",
      "180.0        3\n",
      "          ... \n",
      "132.0        1\n",
      "829.0        1\n",
      "1127.0       1\n",
      "435.0        1\n",
      "750.0        1\n",
      "Name: BsmtFin SF 2, Length: 205, dtype: int64\n",
      "0.0      165\n",
      "384.0     14\n",
      "672.0     11\n",
      "728.0     10\n",
      "816.0      9\n",
      "        ... \n",
      "988.0      1\n",
      "42.0       1\n",
      "793.0      1\n",
      "60.0       1\n",
      "994.0      1\n",
      "Name: Bsmt Unf SF, Length: 967, dtype: int64\n",
      "0.0       54\n",
      "864.0     51\n",
      "672.0     20\n",
      "1040.0    20\n",
      "912.0     17\n",
      "          ..\n",
      "1508.0     1\n",
      "1840.0     1\n",
      "423.0      1\n",
      "2461.0     1\n",
      "1932.0     1\n",
      "Name: Total Bsmt SF, Length: 892, dtype: int64\n",
      "GasA    2018\n",
      "GasW      20\n",
      "Wall       6\n",
      "Grav       5\n",
      "OthW       2\n",
      "Name: Heating, dtype: int64\n",
      "Ex    1065\n",
      "TA     597\n",
      "Gd     319\n",
      "Fa      67\n",
      "Po       3\n",
      "Name: Heating QC, dtype: int64\n",
      "Y    1910\n",
      "N     141\n",
      "Name: Central Air, dtype: int64\n",
      "SBrkr    1868\n",
      "FuseA     140\n",
      "FuseF      35\n",
      "FuseP       7\n",
      "Mix         1\n",
      "Name: Electrical, dtype: int64\n",
      "864     31\n",
      "1040    22\n",
      "816     13\n",
      "912     13\n",
      "960     12\n",
      "        ..\n",
      "2726     1\n",
      "938      1\n",
      "2196     1\n",
      "1357     1\n",
      "1932     1\n",
      "Name: 1st Flr SF, Length: 915, dtype: int64\n",
      "0       1191\n",
      "728       15\n",
      "504       14\n",
      "546       12\n",
      "600       10\n",
      "        ... \n",
      "1323       1\n",
      "1288       1\n",
      "765        1\n",
      "571        1\n",
      "776        1\n",
      "Name: 2nd Flr SF, Length: 504, dtype: int64\n",
      "0       2018\n",
      "80         3\n",
      "205        2\n",
      "512        1\n",
      "362        1\n",
      "53         1\n",
      "360        1\n",
      "384        1\n",
      "156        1\n",
      "436        1\n",
      "259        1\n",
      "479        1\n",
      "140        1\n",
      "397        1\n",
      "514        1\n",
      "144        1\n",
      "697        1\n",
      "114        1\n",
      "390        1\n",
      "234        1\n",
      "572        1\n",
      "312        1\n",
      "120        1\n",
      "515        1\n",
      "1064       1\n",
      "108        1\n",
      "473        1\n",
      "371        1\n",
      "513        1\n",
      "528        1\n",
      "450        1\n",
      "Name: Low Qual Fin SF, dtype: int64\n",
      "864     25\n",
      "1040    20\n",
      "1092    19\n",
      "1200    16\n",
      "1456    15\n",
      "        ..\n",
      "1014     1\n",
      "715      1\n",
      "1598     1\n",
      "572      1\n",
      "1804     1\n",
      "Name: Gr Liv Area, Length: 1053, dtype: int64\n",
      "0.0    1200\n",
      "1.0     824\n",
      "2.0      23\n",
      "3.0       2\n",
      "Name: Bsmt Full Bath, dtype: int64\n",
      "0.0    1923\n",
      "1.0     122\n",
      "2.0       4\n",
      "Name: Bsmt Half Bath, dtype: int64\n",
      "2    1096\n",
      "1     900\n",
      "3      45\n",
      "0       8\n",
      "4       2\n",
      "Name: Full Bath, dtype: int64\n",
      "0    1308\n",
      "1     725\n",
      "2      18\n",
      "Name: Half Bath, dtype: int64\n",
      "3    1108\n",
      "2     544\n",
      "4     265\n",
      "1      75\n",
      "5      41\n",
      "6      12\n",
      "0       5\n",
      "8       1\n",
      "Name: Bedroom AbvGr, dtype: int64\n",
      "1    1960\n",
      "2      88\n",
      "0       2\n",
      "3       1\n",
      "Name: Kitchen AbvGr, dtype: int64\n",
      "TA    1047\n",
      "Gd     806\n",
      "Ex     151\n",
      "Fa      47\n",
      "Name: Kitchen Qual, dtype: int64\n",
      "6     597\n",
      "7     475\n",
      "5     407\n",
      "8     228\n",
      "4     146\n",
      "9      98\n",
      "10     49\n",
      "11     22\n",
      "12     13\n",
      "3      12\n",
      "14      1\n",
      "2       1\n",
      "13      1\n",
      "15      1\n",
      "Name: TotRms AbvGrd, dtype: int64\n",
      "Typ     1915\n",
      "Min2      42\n",
      "Min1      42\n",
      "Mod       29\n",
      "Maj1      12\n",
      "Maj2       7\n",
      "Sev        2\n",
      "Sal        2\n",
      "Name: Functional, dtype: int64\n",
      "0    1000\n",
      "1     898\n",
      "2     146\n",
      "3       6\n",
      "4       1\n",
      "Name: Fireplaces, dtype: int64\n",
      "Gd    523\n",
      "TA    407\n",
      "Fa     59\n",
      "Po     31\n",
      "Ex     31\n",
      "Name: Fireplace Qu, dtype: int64\n",
      "Attchd     1213\n",
      "Detchd      536\n",
      "BuiltIn     132\n",
      "Basment      27\n",
      "2Types       19\n",
      "CarPort      11\n",
      "Name: Garage Type, dtype: int64\n",
      "2005.0    105\n",
      "2007.0     84\n",
      "2006.0     80\n",
      "2004.0     72\n",
      "2003.0     66\n",
      "         ... \n",
      "1918.0      1\n",
      "2207.0      1\n",
      "1933.0      1\n",
      "1895.0      1\n",
      "1919.0      1\n",
      "Name: Garage Yr Blt, Length: 100, dtype: int64\n",
      "Unf    849\n",
      "RFn    579\n",
      "Fin    509\n",
      "Name: Garage Finish, dtype: int64\n",
      "2.0    1136\n",
      "1.0     524\n",
      "3.0     263\n",
      "0.0     113\n",
      "4.0      13\n",
      "5.0       1\n",
      "Name: Garage Cars, dtype: int64\n",
      "0.0      113\n",
      "440.0     70\n",
      "576.0     69\n",
      "484.0     52\n",
      "528.0     46\n",
      "        ... \n",
      "535.0      1\n",
      "399.0      1\n",
      "859.0      1\n",
      "100.0      1\n",
      "217.0      1\n",
      "Name: Garage Area, Length: 514, dtype: int64\n",
      "TA    1832\n",
      "Fa      82\n",
      "Gd      18\n",
      "Ex       3\n",
      "Po       2\n",
      "Name: Garage Qual, dtype: int64\n",
      "TA    1868\n",
      "Fa      47\n",
      "Gd      12\n",
      "Po       8\n",
      "Ex       2\n",
      "Name: Garage Cond, dtype: int64\n",
      "Y    1861\n",
      "N     151\n",
      "P      39\n",
      "Name: Paved Drive, dtype: int64\n",
      "0      1075\n",
      "100      53\n",
      "144      46\n",
      "192      43\n",
      "120      40\n",
      "       ... \n",
      "70        1\n",
      "380       1\n",
      "260       1\n",
      "311       1\n",
      "241       1\n",
      "Name: Wood Deck SF, Length: 322, dtype: int64\n",
      "0      912\n",
      "48      40\n",
      "36      38\n",
      "40      34\n",
      "32      29\n",
      "      ... \n",
      "106      1\n",
      "97       1\n",
      "278      1\n",
      "319      1\n",
      "276      1\n",
      "Name: Open Porch SF, Length: 223, dtype: int64\n",
      "0      1724\n",
      "112      13\n",
      "96       10\n",
      "40        6\n",
      "216       6\n",
      "       ... \n",
      "50        1\n",
      "26        1\n",
      "109       1\n",
      "239       1\n",
      "67        1\n",
      "Name: Enclosed Porch, Length: 159, dtype: int64\n",
      "0      2025\n",
      "168       3\n",
      "153       3\n",
      "144       2\n",
      "140       1\n",
      "290       1\n",
      "182       1\n",
      "245       1\n",
      "216       1\n",
      "86        1\n",
      "323       1\n",
      "96        1\n",
      "180       1\n",
      "176       1\n",
      "508       1\n",
      "255       1\n",
      "150       1\n",
      "407       1\n",
      "120       1\n",
      "162       1\n",
      "224       1\n",
      "304       1\n",
      "Name: 3Ssn Porch, dtype: int64\n",
      "0      1870\n",
      "144       9\n",
      "168       8\n",
      "192       7\n",
      "180       7\n",
      "       ... \n",
      "53        1\n",
      "135       1\n",
      "141       1\n",
      "348       1\n",
      "190       1\n",
      "Name: Screen Porch, Length: 100, dtype: int64\n",
      "0      2042\n",
      "519       1\n",
      "576       1\n",
      "800       1\n",
      "228       1\n",
      "480       1\n",
      "648       1\n",
      "738       1\n",
      "368       1\n",
      "561       1\n",
      "Name: Pool Area, dtype: int64\n",
      "Gd    4\n",
      "Fa    2\n",
      "TA    2\n",
      "Ex    1\n",
      "Name: Pool QC, dtype: int64\n",
      "MnPrv    227\n",
      "GdPrv     83\n",
      "GdWo      80\n",
      "MnWw      10\n",
      "Name: Fence, dtype: int64\n",
      "Shed    56\n",
      "Gar2     4\n",
      "Othr     3\n",
      "TenC     1\n",
      "Elev     1\n",
      "Name: Misc Feature, dtype: int64\n",
      "0        1986\n",
      "400        12\n",
      "500         8\n",
      "600         6\n",
      "450         5\n",
      "2000        5\n",
      "700         4\n",
      "1200        2\n",
      "3000        2\n",
      "2500        2\n",
      "4500        2\n",
      "17000       1\n",
      "1300        1\n",
      "900         1\n",
      "1500        1\n",
      "800         1\n",
      "6500        1\n",
      "54          1\n",
      "3500        1\n",
      "1150        1\n",
      "300         1\n",
      "455         1\n",
      "8300        1\n",
      "460         1\n",
      "12500       1\n",
      "480         1\n",
      "650         1\n",
      "80          1\n",
      "Name: Misc Val, dtype: int64\n",
      "6     352\n",
      "7     303\n",
      "5     257\n",
      "4     208\n",
      "3     168\n",
      "8     167\n",
      "10    123\n",
      "9     109\n",
      "2     104\n",
      "11    103\n",
      "1      79\n",
      "12     78\n",
      "Name: Mo Sold, dtype: int64\n",
      "2007    498\n",
      "2009    446\n",
      "2006    438\n",
      "2008    435\n",
      "2010    234\n",
      "Name: Yr Sold, dtype: int64\n",
      "WD       1781\n",
      "New       160\n",
      "COD        63\n",
      "ConLD      17\n",
      "CWD        10\n",
      "ConLI       7\n",
      "ConLw       5\n",
      "Con         4\n",
      "Oth         4\n",
      "Name: Sale Type, dtype: int64\n",
      "130000    25\n",
      "140000    22\n",
      "145000    20\n",
      "135000    19\n",
      "160000    16\n",
      "          ..\n",
      "160250     1\n",
      "267916     1\n",
      "264132     1\n",
      "198500     1\n",
      "298751     1\n",
      "Name: SalePrice, Length: 828, dtype: int64\n"
     ]
    }
   ],
   "source": [
    "for col in df_train.columns:\n",
    "    print(df_train[col].value_counts())"
   ]
  },
  {
   "cell_type": "code",
   "execution_count": 28,
   "id": "4e264020",
   "metadata": {},
   "outputs": [
    {
     "data": {
      "text/plain": [
       "Reg    1295\n",
       "IR1     692\n",
       "IR2      55\n",
       "IR3       9\n",
       "Name: Lot Shape, dtype: int64"
      ]
     },
     "execution_count": 28,
     "metadata": {},
     "output_type": "execute_result"
    }
   ],
   "source": [
    "df_train['Lot Shape'].value_counts()"
   ]
  },
  {
   "cell_type": "markdown",
   "id": "06646db2",
   "metadata": {},
   "source": [
    "### Cleaning\n",
    "Working on null values."
   ]
  },
  {
   "cell_type": "code",
   "execution_count": null,
   "id": "86b5ff80",
   "metadata": {},
   "outputs": [],
   "source": [
    "# Explore the null values\n",
    "print(f\"Total Null values of numerical columns: {df_num.isna().sum().sum()}\")\n",
    "print(f\"Total Null values in categorical columns: {df_cat.isna().sum().sum()}\")"
   ]
  },
  {
   "cell_type": "code",
   "execution_count": null,
   "id": "7d1e1c57",
   "metadata": {},
   "outputs": [],
   "source": [
    "# Plot the null values\n",
    "plt.figure(figsize=(15,25))\n",
    "df_train.isna().sum().plot.barh(color=\"orange\");"
   ]
  },
  {
   "cell_type": "code",
   "execution_count": null,
   "id": "dfc1b2e5",
   "metadata": {},
   "outputs": [],
   "source": [
    "# Drop columns with more than 300 null values\n",
    "df_train.dropna(thresh=len(df_train)-300, axis=1, inplace=True)\n",
    "df_train.shape"
   ]
  },
  {
   "cell_type": "markdown",
   "id": "e8a0acbd",
   "metadata": {},
   "source": [
    "### Get to know columns with most null values in numerical features after dropping columns"
   ]
  },
  {
   "cell_type": "code",
   "execution_count": null,
   "id": "91500235",
   "metadata": {},
   "outputs": [],
   "source": [
    "# Distribution of values in lot_frontage feature\n",
    "his_dis(column=df_num['mas_vnr_area'], titlename='Masonry Veneer Area in Square Feet',\n",
    "                      x='Masonry Veneer Area in Square Feet', bins=50, color='orange')"
   ]
  },
  {
   "cell_type": "code",
   "execution_count": null,
   "id": "380db348",
   "metadata": {},
   "outputs": [],
   "source": [
    "# Distribution of values in lot_frontage feature\n",
    "his_dis(column=df_num['garage_yr_blt'], titlename='Year Garage Was Built',\n",
    "                      x='Year Garage Was Built', bins=50, color='orange')"
   ]
  },
  {
   "cell_type": "code",
   "execution_count": null,
   "id": "47d004c5",
   "metadata": {},
   "outputs": [],
   "source": [
    "# Work on null values on lot_frontage\n",
    "# Replace null values with the average\n",
    "df_num['lot_frontage'].fillna(df_num['lot_frontage'].mean(), inplace=True)"
   ]
  },
  {
   "cell_type": "code",
   "execution_count": null,
   "id": "e8baf45d",
   "metadata": {},
   "outputs": [],
   "source": [
    "# Work on null values on mas_vnr_area\n",
    "# Fill null values with 0\n",
    "df_num['mas_vnr_area'].fillna(0, inplace=True)"
   ]
  },
  {
   "cell_type": "code",
   "execution_count": null,
   "id": "4766166d",
   "metadata": {},
   "outputs": [],
   "source": [
    "# Explore in null values of garage_yr_blt feature \n",
    "print(f\"Take a look at garage_yr_blt and year_built where the garage and the house built at the same year:\\n {df_num[['garage_yr_blt','year_built']][df_num['garage_yr_blt']==df_num['year_built']]}\")\n",
    "print(f\"\\nPercentage of where the garage and the house were built at the same year:\\n {df_num[['garage_yr_blt','year_built']][df_num['garage_yr_blt']==df_num['year_built']].shape[0]/df_num.shape[0]}\")"
   ]
  },
  {
   "cell_type": "code",
   "execution_count": null,
   "id": "322da26e",
   "metadata": {},
   "outputs": [],
   "source": [
    "# Replace garage_yr_blt null values with corresponding value in year_built\n",
    "df_num['garage_yr_blt'].fillna(df_num['year_built'], inplace=True)"
   ]
  },
  {
   "cell_type": "code",
   "execution_count": null,
   "id": "6e4523d8",
   "metadata": {},
   "outputs": [],
   "source": [
    "# Drop remaining null values\n",
    "df_num.dropna(inplace=True)"
   ]
  },
  {
   "cell_type": "code",
   "execution_count": null,
   "id": "acd6cf3e",
   "metadata": {},
   "outputs": [],
   "source": []
  },
  {
   "cell_type": "code",
   "execution_count": null,
   "id": "25f88a10",
   "metadata": {},
   "outputs": [],
   "source": []
  },
  {
   "cell_type": "code",
   "execution_count": null,
   "id": "028a7fec",
   "metadata": {},
   "outputs": [],
   "source": []
  },
  {
   "cell_type": "code",
   "execution_count": null,
   "id": "317be71f",
   "metadata": {},
   "outputs": [],
   "source": []
  },
  {
   "cell_type": "code",
   "execution_count": null,
   "id": "509eec08",
   "metadata": {},
   "outputs": [],
   "source": [
    "df_final = df_train.select_dtypes(include=[int, float])"
   ]
  },
  {
   "cell_type": "code",
   "execution_count": null,
   "id": "a4d363f1",
   "metadata": {},
   "outputs": [],
   "source": [
    "# adding neighborhood columns from train dataset\n",
    "df_final = pd.merge(df_final, df_train[['id', 'neighborhood']], on='id', how='left')"
   ]
  },
  {
   "cell_type": "code",
   "execution_count": null,
   "id": "424ebe5f",
   "metadata": {},
   "outputs": [],
   "source": [
    "df_final.isna().sum()"
   ]
  },
  {
   "cell_type": "code",
   "execution_count": null,
   "id": "ead67245",
   "metadata": {},
   "outputs": [],
   "source": [
    "df_final['neighborhood'].value_counts()"
   ]
  },
  {
   "cell_type": "code",
   "execution_count": null,
   "id": "327f0eca",
   "metadata": {},
   "outputs": [],
   "source": [
    "df_final.shape"
   ]
  },
  {
   "cell_type": "code",
   "execution_count": null,
   "id": "b441c9a2",
   "metadata": {},
   "outputs": [],
   "source": [
    "df_final.describe()"
   ]
  },
  {
   "cell_type": "code",
   "execution_count": null,
   "id": "9816a47f",
   "metadata": {},
   "outputs": [],
   "source": [
    "df_final.isna().sum()"
   ]
  },
  {
   "cell_type": "code",
   "execution_count": null,
   "id": "01f39a5c",
   "metadata": {},
   "outputs": [],
   "source": [
    "# filled null values with mean in lot_frontage\n",
    "df_final['lot_frontage'] = df_final['lot_frontage'].fillna(df_final['lot_frontage'].mean())"
   ]
  },
  {
   "cell_type": "code",
   "execution_count": null,
   "id": "9b8784f8",
   "metadata": {},
   "outputs": [],
   "source": [
    "df_final['lot_frontage'].value_counts()"
   ]
  },
  {
   "cell_type": "code",
   "execution_count": null,
   "id": "1bb70ba4",
   "metadata": {},
   "outputs": [],
   "source": [
    "df_final['full_bath'].value_counts()"
   ]
  },
  {
   "cell_type": "code",
   "execution_count": null,
   "id": "81e29ef8",
   "metadata": {},
   "outputs": [],
   "source": [
    "df_final = df_final[df_final['full_bath'] > 0]"
   ]
  },
  {
   "cell_type": "code",
   "execution_count": null,
   "id": "e87f21c3",
   "metadata": {},
   "outputs": [],
   "source": [
    "df_final['totrms_abvgrd'].value_counts()"
   ]
  },
  {
   "cell_type": "code",
   "execution_count": null,
   "id": "912de5bb",
   "metadata": {},
   "outputs": [],
   "source": [
    "df_final = df_final[df_final['totrms_abvgrd'] < 13]"
   ]
  },
  {
   "cell_type": "code",
   "execution_count": null,
   "id": "e961afe3",
   "metadata": {},
   "outputs": [],
   "source": [
    "# Dropping unusefull columns\n",
    "df_final = df_final.drop(columns = ['garage_yr_blt', 'pid'])"
   ]
  },
  {
   "cell_type": "code",
   "execution_count": null,
   "id": "624fe8fb",
   "metadata": {},
   "outputs": [],
   "source": [
    "df_final.dropna(inplace=True)"
   ]
  },
  {
   "cell_type": "code",
   "execution_count": null,
   "id": "1b450b0a",
   "metadata": {},
   "outputs": [],
   "source": [
    "# Got better r2 score by using that but because of dat dictionary, I'm not gonna use that!!\n",
    "##df_final = pd.get_dummies(data=df_final, columns= ['neighborhood'], prefix = None)"
   ]
  },
  {
   "cell_type": "code",
   "execution_count": null,
   "id": "a104f1ed",
   "metadata": {},
   "outputs": [],
   "source": [
    "##df_final = pd.merge(df_final, df_train[['id', 'neighborhood']], on='id', how='left')"
   ]
  },
  {
   "cell_type": "code",
   "execution_count": null,
   "id": "c437ccb0",
   "metadata": {},
   "outputs": [],
   "source": [
    "df_final['year_bt_bu_ren'] = df_final['year_remod/add'] - df_final['year_built']"
   ]
  },
  {
   "cell_type": "code",
   "execution_count": null,
   "id": "ba6889bd",
   "metadata": {},
   "outputs": [],
   "source": [
    "df_final['year_bt_bu_ren'].value_counts()"
   ]
  },
  {
   "cell_type": "code",
   "execution_count": null,
   "id": "c54dacf2",
   "metadata": {},
   "outputs": [],
   "source": [
    "df_final.shape"
   ]
  },
  {
   "cell_type": "code",
   "execution_count": null,
   "id": "235eb24a",
   "metadata": {},
   "outputs": [],
   "source": [
    "df_final.dtypes"
   ]
  },
  {
   "cell_type": "code",
   "execution_count": null,
   "id": "6c675b4e",
   "metadata": {},
   "outputs": [],
   "source": [
    "df_final['neighborhood'].value_counts()"
   ]
  },
  {
   "cell_type": "code",
   "execution_count": null,
   "id": "67f8002a",
   "metadata": {},
   "outputs": [],
   "source": [
    "#save and export new dataset\n",
    "df_final.to_csv('../data/final')"
   ]
  },
  {
   "cell_type": "markdown",
   "id": "b6856409",
   "metadata": {},
   "source": [
    "## Exploratory Data Analysis"
   ]
  },
  {
   "cell_type": "code",
   "execution_count": null,
   "id": "25e2b55f",
   "metadata": {},
   "outputs": [],
   "source": [
    "# correlation between features and target\n",
    "plt.figure(figsize= (10,8))\n",
    "sns.heatmap(df_final.corr()[['saleprice']].sort_values(by='saleprice', ascending=False),\n",
    "           annot=True,\n",
    "           vmin=-1,\n",
    "           vmax=1,\n",
    "           cmap = 'coolwarm');"
   ]
  },
  {
   "cell_type": "markdown",
   "id": "003fdeea",
   "metadata": {},
   "source": [
    "### Creating my model based on major features"
   ]
  },
  {
   "cell_type": "code",
   "execution_count": null,
   "id": "4aab53c9",
   "metadata": {},
   "outputs": [],
   "source": [
    "df_final.corr()[['saleprice']].sort_values(by='saleprice', ascending=False)"
   ]
  },
  {
   "cell_type": "code",
   "execution_count": null,
   "id": "6451d9a9",
   "metadata": {},
   "outputs": [],
   "source": [
    "# Defining X and y\n",
    "X = df_final.drop(columns = ['saleprice', 'id', 'neighborhood'], axis =1)\n",
    "y = df_final['saleprice']"
   ]
  },
  {
   "cell_type": "code",
   "execution_count": null,
   "id": "9df65b1a",
   "metadata": {},
   "outputs": [],
   "source": [
    "# spliting X and y to train and test\n",
    "X_train, X_test, y_train, y_test = train_test_split(X, y, random_state=42)"
   ]
  },
  {
   "cell_type": "code",
   "execution_count": null,
   "id": "839529b7",
   "metadata": {},
   "outputs": [],
   "source": [
    "# Standardizing\n",
    "ss = StandardScaler()\n",
    "X_train = ss.fit_transform(X_train)\n",
    "X_test = ss.transform(X_test)"
   ]
  },
  {
   "cell_type": "code",
   "execution_count": null,
   "id": "626ec563",
   "metadata": {},
   "outputs": [],
   "source": [
    "lr = LinearRegression()"
   ]
  },
  {
   "cell_type": "code",
   "execution_count": null,
   "id": "4e9672c4",
   "metadata": {},
   "outputs": [],
   "source": [
    "# fir my Linear model to train data\n",
    "lr.fit(X_train, y_train)"
   ]
  },
  {
   "cell_type": "markdown",
   "id": "225813f6",
   "metadata": {},
   "source": [
    "### Evaluating my model"
   ]
  },
  {
   "cell_type": "code",
   "execution_count": null,
   "id": "e571333f",
   "metadata": {},
   "outputs": [],
   "source": [
    "#Train score\n",
    "lr.score(X_train, y_train)"
   ]
  },
  {
   "cell_type": "code",
   "execution_count": null,
   "id": "7f3a6ab5",
   "metadata": {},
   "outputs": [],
   "source": [
    "#test score\n",
    "lr.score(X_test, y_test)"
   ]
  },
  {
   "cell_type": "code",
   "execution_count": null,
   "id": "177ab76b",
   "metadata": {},
   "outputs": [],
   "source": [
    "lasso_cv = LassoCV(cv=5)\n",
    "lasso_cv.fit(X_train, y_train)"
   ]
  },
  {
   "cell_type": "code",
   "execution_count": null,
   "id": "759b755d",
   "metadata": {},
   "outputs": [],
   "source": [
    "# lasso train score\n",
    "lasso_cv.score(X_train, y_train)"
   ]
  },
  {
   "cell_type": "code",
   "execution_count": null,
   "id": "5b986054",
   "metadata": {},
   "outputs": [],
   "source": [
    "# lasso test score\n",
    "lasso_cv.score(X_test, y_test)"
   ]
  },
  {
   "cell_type": "code",
   "execution_count": null,
   "id": "343da10d",
   "metadata": {},
   "outputs": [],
   "source": [
    "coef_df = pd.DataFrame({'features': X.columns, 'coefs': lasso_cv.coef_})\n",
    "coef_df.sort_values('coefs', ascending = False).head(10)"
   ]
  },
  {
   "cell_type": "code",
   "execution_count": null,
   "id": "5c3b1125",
   "metadata": {},
   "outputs": [],
   "source": [
    "coef_df.sort_values('coefs', ascending = False).tail()"
   ]
  },
  {
   "cell_type": "markdown",
   "id": "f31cd912",
   "metadata": {},
   "source": [
    "### Line Assumption"
   ]
  },
  {
   "cell_type": "code",
   "execution_count": null,
   "id": "98b45e73",
   "metadata": {},
   "outputs": [],
   "source": [
    "# L Linear Regression\n",
    "plt.figure(figsize=(15,10))\n",
    "plt.scatter(df_final['gr_liv_area'], df_final['saleprice'], edgecolor = 'black')\n",
    "plt.title('Relationship Between Above Ground Living Area and Sale Price', fontsize='17')\n",
    "plt.xlabel('Above Ground Living Area Square Feet', fontsize=14)\n",
    "plt.ylabel('House Sale Price', fontsize=14);"
   ]
  },
  {
   "cell_type": "code",
   "execution_count": null,
   "id": "88f64891",
   "metadata": {},
   "outputs": [],
   "source": [
    "# N-Normality of error\n",
    "y_preds = lasso_cv.predict(X_train)\n",
    "resids = y_train - y_preds\n",
    "plt.hist(resids, bins = 50, edgecolor = 'black');\n",
    "# Fine"
   ]
  },
  {
   "cell_type": "code",
   "execution_count": null,
   "id": "e38a198a",
   "metadata": {},
   "outputs": [],
   "source": [
    "# E-Equality variance of errors\n",
    "# Residual plot\n",
    "plt.figure(figsize=(5,5))\n",
    "plt.scatter(y_preds, resids, s=1)\n",
    "plt.axhline(0, color='orange');"
   ]
  },
  {
   "cell_type": "markdown",
   "id": "efa358b8",
   "metadata": {},
   "source": [
    "## Visualization"
   ]
  },
  {
   "cell_type": "code",
   "execution_count": null,
   "id": "62786a83",
   "metadata": {},
   "outputs": [],
   "source": [
    "plt.figure(figsize=(15,10))\n",
    "plt.scatter(df_final['gr_liv_area'], df_final['saleprice'], c='gold', edgecolor = 'black')\n",
    "plt.title('Relationship Between Above Ground Living Area and Sale Price', fontsize='17')\n",
    "plt.xlabel('Above Ground Living Area Square Feet', fontsize=14)\n",
    "plt.ylabel('House Sale Price', fontsize=14);"
   ]
  },
  {
   "cell_type": "code",
   "execution_count": null,
   "id": "928bac87",
   "metadata": {},
   "outputs": [],
   "source": [
    "plt.figure(figsize=(15,10))\n",
    "plt.scatter(df_final['garage_area'] , df_final['saleprice'], c='orange', edgecolor='black')\n",
    "plt.title('Relationship Between Garage Area and Sale Price', fontsize=17)\n",
    "plt.xlabel('Garage Area in Square Feet', fontsize=14)\n",
    "plt.ylabel('House Sale Price', fontsize=14);"
   ]
  },
  {
   "cell_type": "code",
   "execution_count": null,
   "id": "746662ca",
   "metadata": {},
   "outputs": [],
   "source": [
    "plt.figure(figsize=(15,10))\n",
    "plt.bar(df_final['garage_cars'], df_final['saleprice'], color = ['gold', 'gold', 'gold', 'gold', 'gold', 'gold'])\n",
    "plt.xticks(df_final['garage_cars'])\n",
    "plt.yticks()\n",
    "plt.title('The Relationship Between Number of Car Space Park and Sale Price', fontsize=17)\n",
    "plt.xlabel('Number Of Car Space Park', fontsize=14)\n",
    "plt.ylabel('House Sale Price', fontsize=14);"
   ]
  },
  {
   "cell_type": "code",
   "execution_count": null,
   "id": "aed5cec9",
   "metadata": {},
   "outputs": [],
   "source": [
    "plt.figure(figsize=(15,10))\n",
    "plt.scatter(df_final['total_bsmt_sf'], df_final['saleprice'], edgecolor = 'black')\n",
    "plt.title('Relationship Between Total Basement Area and Sale Price', fontsize='17')\n",
    "plt.xlabel('Total Basement Area in Square Feet', fontsize=14)\n",
    "plt.ylabel('House Sale Price', fontsize=14);"
   ]
  },
  {
   "cell_type": "code",
   "execution_count": null,
   "id": "84ebd3e2",
   "metadata": {},
   "outputs": [],
   "source": [
    "plt.figure(figsize=(15,10))\n",
    "plt.scatter(df_final['1st_flr_sf'], df_final['saleprice'], c= 'gold',edgecolor = 'black')\n",
    "plt.title('Relationship Between First Floor Area and Sale Price', fontsize='17')\n",
    "plt.xlabel('First Floor Area in Square Feet', fontsize=14)\n",
    "plt.ylabel('House Sale Price', fontsize=14);"
   ]
  },
  {
   "cell_type": "code",
   "execution_count": null,
   "id": "6896d39d",
   "metadata": {},
   "outputs": [],
   "source": [
    "plt.figure(figsize=(15,10))\n",
    "plt.scatter(df_final['2nd_flr_sf'], df_final['saleprice'], edgecolor = 'black')\n",
    "plt.title('Relationship Between Second Floor Area and Sale Price', fontsize='17')\n",
    "plt.xlabel('Second Floor Area in Square Feet', fontsize=14)\n",
    "plt.ylabel('House Sale Price', fontsize=14);"
   ]
  },
  {
   "cell_type": "code",
   "execution_count": null,
   "id": "cec3ddb2",
   "metadata": {},
   "outputs": [],
   "source": [
    "df_final['full_bath'].astype('object')"
   ]
  },
  {
   "cell_type": "code",
   "execution_count": null,
   "id": "647da6bb",
   "metadata": {},
   "outputs": [],
   "source": [
    "plt.figure(figsize=(15,10))\n",
    "plt.bar(df_final['full_bath'], df_final['saleprice'], color = ['gold', 'gold', 'gold', 'gold'])\n",
    "plt.xticks(df_final['full_bath'])\n",
    "plt.title('The Relationship Between Number of Full-Bathroom and Sale Price', fontsize=17)\n",
    "plt.xlabel('Number of Full-Bathroom', fontsize=14)\n",
    "plt.ylabel('House Sale Price', fontsize=14);"
   ]
  },
  {
   "cell_type": "code",
   "execution_count": null,
   "id": "78b8794c",
   "metadata": {},
   "outputs": [],
   "source": [
    "plt.figure(figsize=(15,10))\n",
    "plt.bar(df_final['totrms_abvgrd'], df_final['saleprice'])\n",
    "plt.xticks(df_final['totrms_abvgrd'])\n",
    "plt.yticks()\n",
    "plt.title('Relationship of Total Rooms and Sale Price', fontsize=17)\n",
    "plt.xlabel('Number of Total Rooms', fontsize=14)\n",
    "plt.ylabel('House Sale Price', fontsize=14);"
   ]
  },
  {
   "cell_type": "code",
   "execution_count": null,
   "id": "7bcc8dff",
   "metadata": {},
   "outputs": [],
   "source": [
    "plt.figure(figsize=(40,30))\n",
    "plt.bar(df_final['neighborhood'], df_final['saleprice'])\n",
    "plt.xticks(df_final['neighborhood'])\n",
    "plt.title('Relationship Number Of Available Car Space Park and Sale Price', fontsize=17)\n",
    "plt.xlabel('Number Of Car Space Park', fontsize=14)\n",
    "plt.ylabel('House Sale Price', fontsize=14);"
   ]
  },
  {
   "cell_type": "code",
   "execution_count": null,
   "id": "53147f4d",
   "metadata": {},
   "outputs": [],
   "source": [
    "df_final.corr()[['saleprice']].sort_values(by='saleprice', ascending=False)"
   ]
  },
  {
   "cell_type": "code",
   "execution_count": null,
   "id": "8990d0a0",
   "metadata": {},
   "outputs": [],
   "source": [
    "plt.figure(figsize=(15,10))\n",
    "plt.bar(df_final['overall_qual'], df_final['saleprice'])\n",
    "plt.xticks(df_final['overall_qual'])\n",
    "plt.yticks();"
   ]
  }
 ],
 "metadata": {
  "kernelspec": {
   "display_name": "Python 3 (ipykernel)",
   "language": "python",
   "name": "python3"
  },
  "language_info": {
   "codemirror_mode": {
    "name": "ipython",
    "version": 3
   },
   "file_extension": ".py",
   "mimetype": "text/x-python",
   "name": "python",
   "nbconvert_exporter": "python",
   "pygments_lexer": "ipython3",
   "version": "3.9.13"
  }
 },
 "nbformat": 4,
 "nbformat_minor": 5
}
