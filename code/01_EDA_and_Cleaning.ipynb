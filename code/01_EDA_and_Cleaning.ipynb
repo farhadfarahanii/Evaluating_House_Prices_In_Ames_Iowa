{
 "cells": [
  {
   "cell_type": "markdown",
   "id": "d7e165dc",
   "metadata": {},
   "source": [
    "# A Comprehensive Study of the Factors that Affect Home Prices in Ames, Iowa"
   ]
  },
  {
   "cell_type": "markdown",
   "id": "c5eb57d7",
   "metadata": {},
   "source": [
    "## Problem Statement\n",
    "As a realtor company operating in Ames, Iowa, our goal is to help our clients make informed decisions when buying or selling a home. One of the key factors that our clients consider is the price of the property, and we want to develop a reliable regression model that can accurately predict the prices of homes in this area. By analyzing a dataset of previous home sales in Ames and identifying the key features that impact home prices, we aim to create a regression model that can be used to predict future prices based on a variety of property characteristics. Our ultimate goal is to provide our clients with a powerful tool that can help them make smart and profitable real estate decisions."
   ]
  },
  {
   "cell_type": "markdown",
   "id": "9454607a",
   "metadata": {},
   "source": [
    "## Background\n",
    "The real estate market in Ames, Iowa has seen significant growth over the past decade, with a steady increase in home prices and a high demand for quality housing. As a result, there is a growing need for accurate predictions of home prices in this area, both for home buyers looking to make a wise investment and for realtors seeking to offer valuable insights to their clients.\n",
    "\n",
    "To address this need, our realtor company is undertaking a project to develop a regression model that can predict home prices in Ames based on a variety of key factors. By analyzing a dataset of past home sales and identifying the most significant features that impact home prices, we aim to build a reliable and accurate model that can help our clients make informed decisions about their real estate investments.\n",
    "\n",
    "This project represents a significant opportunity for our company to provide a valuable service to our clients, while also gaining a deeper understanding of the complex factors that drive home prices in the Ames real estate market. Through careful analysis and rigorous testing, we believe that we can develop a powerful tool that will help our clients maximize their investments and achieve their real estate goals."
   ]
  },
  {
   "cell_type": "markdown",
   "id": "ce2717a4",
   "metadata": {},
   "source": [
    "## Contents:"
   ]
  },
  {
   "cell_type": "markdown",
   "id": "8e023bb9",
   "metadata": {},
   "source": [
    "## Datasets\n",
    "The raw dataset provided from [Kaggle](https://www.kaggle.com/c/house-prices-advanced-regression-techniques): consisting 81 features that could impact on house prices."
   ]
  },
  {
   "cell_type": "markdown",
   "id": "b22633e3",
   "metadata": {},
   "source": [
    "## Imports"
   ]
  },
  {
   "cell_type": "code",
   "execution_count": 1,
   "id": "949f2b30",
   "metadata": {},
   "outputs": [],
   "source": [
    "import pandas as pd\n",
    "import matplotlib.pyplot as plt\n",
    "import seaborn as sns\n",
    "import numpy as np\n",
    "\n",
    "from sklearn.linear_model import LinearRegression, RidgeCV, Lasso, LassoCV\n",
    "from sklearn.preprocessing import PolynomialFeatures, StandardScaler\n",
    "from sklearn.model_selection import train_test_split, cross_val_score\n",
    "\n",
    "pd.set_option(\"display.max_colwidth\", None)\n",
    "     "
   ]
  },
  {
   "cell_type": "markdown",
   "id": "72fc08a9",
   "metadata": {},
   "source": [
    "## Functions"
   ]
  },
  {
   "cell_type": "code",
   "execution_count": 34,
   "id": "7eed5399",
   "metadata": {},
   "outputs": [],
   "source": [
    "# Function for plotting histogram\n",
    "def his_dis(column, titlename, x, bins, color):    \n",
    "    plt.figure(figsize=(12,8))\n",
    "    plt.hist(column, bins=bins, edgecolor='black', color=color)\n",
    "    plt.title('Distribution of ' + titlename)\n",
    "    plt.xlabel(x)\n",
    "    plt.ylabel('Frequencies');"
   ]
  },
  {
   "cell_type": "markdown",
   "id": "39b96bb3",
   "metadata": {},
   "source": [
    "## Exploratory Data Analysis (EDA) and Pre-Processing"
   ]
  },
  {
   "cell_type": "markdown",
   "id": "0d539f9d",
   "metadata": {},
   "source": [
    "### Load Data"
   ]
  },
  {
   "cell_type": "code",
   "execution_count": 2,
   "id": "a802c437",
   "metadata": {},
   "outputs": [],
   "source": [
    "# Determine data path\n",
    "data_path = '../data/train.csv'"
   ]
  },
  {
   "cell_type": "code",
   "execution_count": 3,
   "id": "cfefe1a2",
   "metadata": {},
   "outputs": [
    {
     "name": "stdout",
     "output_type": "stream",
     "text": [
      "Sample Data :    Id        PID  MS SubClass MS Zoning  Lot Frontage  Lot Area Street Alley  \\\n",
      "0  109  533352170           60        RL           NaN     13517   Pave   NaN   \n",
      "1  544  531379050           60        RL          43.0     11492   Pave   NaN   \n",
      "2  153  535304180           20        RL          68.0      7922   Pave   NaN   \n",
      "3  318  916386060           60        RL          73.0      9802   Pave   NaN   \n",
      "4  255  906425045           50        RL          82.0     14235   Pave   NaN   \n",
      "\n",
      "  Lot Shape Land Contour  ... Screen Porch Pool Area Pool QC Fence  \\\n",
      "0       IR1          Lvl  ...            0         0     NaN   NaN   \n",
      "1       IR1          Lvl  ...            0         0     NaN   NaN   \n",
      "2       Reg          Lvl  ...            0         0     NaN   NaN   \n",
      "3       Reg          Lvl  ...            0         0     NaN   NaN   \n",
      "4       IR1          Lvl  ...            0         0     NaN   NaN   \n",
      "\n",
      "  Misc Feature Misc Val Mo Sold Yr Sold  Sale Type  SalePrice  \n",
      "0          NaN        0       3    2010        WD      130500  \n",
      "1          NaN        0       4    2009        WD      220000  \n",
      "2          NaN        0       1    2010        WD      109000  \n",
      "3          NaN        0       4    2010        WD      174000  \n",
      "4          NaN        0       3    2010        WD      138500  \n",
      "\n",
      "[5 rows x 81 columns]\n",
      "\n",
      "--------------------------\n",
      "\n",
      " Columns : ['Id', 'PID', 'MS SubClass', 'MS Zoning', 'Lot Frontage', 'Lot Area', 'Street', 'Alley', 'Lot Shape', 'Land Contour', 'Utilities', 'Lot Config', 'Land Slope', 'Neighborhood', 'Condition 1', 'Condition 2', 'Bldg Type', 'House Style', 'Overall Qual', 'Overall Cond', 'Year Built', 'Year Remod/Add', 'Roof Style', 'Roof Matl', 'Exterior 1st', 'Exterior 2nd', 'Mas Vnr Type', 'Mas Vnr Area', 'Exter Qual', 'Exter Cond', 'Foundation', 'Bsmt Qual', 'Bsmt Cond', 'Bsmt Exposure', 'BsmtFin Type 1', 'BsmtFin SF 1', 'BsmtFin Type 2', 'BsmtFin SF 2', 'Bsmt Unf SF', 'Total Bsmt SF', 'Heating', 'Heating QC', 'Central Air', 'Electrical', '1st Flr SF', '2nd Flr SF', 'Low Qual Fin SF', 'Gr Liv Area', 'Bsmt Full Bath', 'Bsmt Half Bath', 'Full Bath', 'Half Bath', 'Bedroom AbvGr', 'Kitchen AbvGr', 'Kitchen Qual', 'TotRms AbvGrd', 'Functional', 'Fireplaces', 'Fireplace Qu', 'Garage Type', 'Garage Yr Blt', 'Garage Finish', 'Garage Cars', 'Garage Area', 'Garage Qual', 'Garage Cond', 'Paved Drive', 'Wood Deck SF', 'Open Porch SF', 'Enclosed Porch', '3Ssn Porch', 'Screen Porch', 'Pool Area', 'Pool QC', 'Fence', 'Misc Feature', 'Misc Val', 'Mo Sold', 'Yr Sold', 'Sale Type', 'SalePrice']\n",
      "\n",
      "--------------------------\n",
      "\n",
      " Size of the dataset : 2051\n",
      "\n",
      "--------------------------\n",
      "\n",
      " Number of numerical features: 39\n",
      "\n",
      "--------------------------\n",
      "\n",
      " Number of categorical features: 42\n"
     ]
    }
   ],
   "source": [
    "# Read captions data\n",
    "df_train = pd.read_csv(data_path)\n",
    "\n",
    "# 5 Samples of data \n",
    "print(f\"Sample Data :{df_train.head()}\")\n",
    "\n",
    "print(f\"\\n--------------------------\\n\\n Columns : {[i for i in df_train.columns]}\")\n",
    "print(f\"\\n--------------------------\\n\\n Size of the dataset : {df_train.shape[0]}\")\n",
    "print(f\"\\n--------------------------\\n\\n Number of numerical features: {df_train.select_dtypes(include=[int, float]).shape[1]}\")\n",
    "print(f\"\\n--------------------------\\n\\n Number of categorical features: {df_train.select_dtypes(include=[object]).shape[1]}\")"
   ]
  },
  {
   "cell_type": "code",
   "execution_count": 4,
   "id": "b804c78b",
   "metadata": {},
   "outputs": [],
   "source": [
    "# Lower case column names and remove spaces \n",
    "df_train.columns = df_train.columns.str.lower().str.replace(' ', '_')"
   ]
  },
  {
   "cell_type": "code",
   "execution_count": 5,
   "id": "912324aa",
   "metadata": {},
   "outputs": [],
   "source": [
    "# Define numberical and categorical dataframes\n",
    "df_num = df_train.select_dtypes(include = [int, float])\n",
    "df_cat = df_train.select_dtypes(include = [object])"
   ]
  },
  {
   "cell_type": "markdown",
   "id": "06646db2",
   "metadata": {},
   "source": [
    "### Pre-Processing on Numerical Dataframe"
   ]
  },
  {
   "cell_type": "code",
   "execution_count": 6,
   "id": "86b5ff80",
   "metadata": {},
   "outputs": [
    {
     "data": {
      "text/plain": [
       "id                   0\n",
       "pid                  0\n",
       "ms_subclass          0\n",
       "lot_frontage       330\n",
       "lot_area             0\n",
       "overall_qual         0\n",
       "overall_cond         0\n",
       "year_built           0\n",
       "year_remod/add       0\n",
       "mas_vnr_area        22\n",
       "bsmtfin_sf_1         1\n",
       "bsmtfin_sf_2         1\n",
       "bsmt_unf_sf          1\n",
       "total_bsmt_sf        1\n",
       "1st_flr_sf           0\n",
       "2nd_flr_sf           0\n",
       "low_qual_fin_sf      0\n",
       "gr_liv_area          0\n",
       "bsmt_full_bath       2\n",
       "bsmt_half_bath       2\n",
       "full_bath            0\n",
       "half_bath            0\n",
       "bedroom_abvgr        0\n",
       "kitchen_abvgr        0\n",
       "totrms_abvgrd        0\n",
       "fireplaces           0\n",
       "garage_yr_blt      114\n",
       "garage_cars          1\n",
       "garage_area          1\n",
       "wood_deck_sf         0\n",
       "open_porch_sf        0\n",
       "enclosed_porch       0\n",
       "3ssn_porch           0\n",
       "screen_porch         0\n",
       "pool_area            0\n",
       "misc_val             0\n",
       "mo_sold              0\n",
       "yr_sold              0\n",
       "saleprice            0\n",
       "dtype: int64"
      ]
     },
     "execution_count": 6,
     "metadata": {},
     "output_type": "execute_result"
    }
   ],
   "source": [
    "# Explore the null values\n",
    "df_num.isna().sum()"
   ]
  },
  {
   "cell_type": "markdown",
   "id": "e8a0acbd",
   "metadata": {},
   "source": [
    "### Get to know columns with most null values in numerical features"
   ]
  },
  {
   "cell_type": "code",
   "execution_count": 37,
   "id": "9646201e",
   "metadata": {},
   "outputs": [
    {
     "data": {
      "image/png": "[encoded data removed]",
      "text/plain": [
       "<Figure size 1200x800 with 1 Axes>"
      ]
     },
     "metadata": {},
     "output_type": "display_data"
    }
   ],
   "source": [
    "# Distribution of values in lot_frontage feature\n",
    "his_dis(column=df_num['lot_frontage'], titlename='Linear Feet of Street Connected to Property',\n",
    "                      x='Lot Frontage Feet', bins=50, color='orange')"
   ]
  },
  {
   "cell_type": "code",
   "execution_count": 38,
   "id": "91500235",
   "metadata": {},
   "outputs": [
    {
     "data": {
      "image/png": "[encoded data removed]",
      "text/plain": [
       "<Figure size 1200x800 with 1 Axes>"
      ]
     },
     "metadata": {},
     "output_type": "display_data"
    }
   ],
   "source": [
    "# Distribution of values in lot_frontage feature\n",
    "his_dis(column=df_num['mas_vnr_area'], titlename='Masonry Veneer Area in Square Feet',\n",
    "                      x='Masonry Veneer Area in Square Feet', bins=50, color='orange')"
   ]
  },
  {
   "cell_type": "code",
   "execution_count": 39,
   "id": "380db348",
   "metadata": {},
   "outputs": [
    {
     "data": {
      "image/png": "[encoded data removed]",
      "text/plain": [
       "<Figure size 1200x800 with 1 Axes>"
      ]
     },
     "metadata": {},
     "output_type": "display_data"
    }
   ],
   "source": [
    "# Distribution of values in lot_frontage feature\n",
    "his_dis(column=df_num['garage_yr_blt'], titlename='Year Garage Was Built',\n",
    "                      x='Year Garage Was Built', bins=50, color='orange')"
   ]
  },
  {
   "cell_type": "code",
   "execution_count": 45,
   "id": "47d004c5",
   "metadata": {},
   "outputs": [],
   "source": [
    "# Work on null values on lot_frontage\n",
    "# Replace null values with the average\n",
    "df_num['lot_frontage'].fillna(df_num['lot_frontage'].mean(), inplace=True)"
   ]
  },
  {
   "cell_type": "code",
   "execution_count": 40,
   "id": "e8baf45d",
   "metadata": {},
   "outputs": [],
   "source": [
    "# Work on null values on mas_vnr_area\n",
    "# Fill null values with 0\n",
    "df_num['mas_vnr_area'].fillna(0, inplace=True)"
   ]
  },
  {
   "cell_type": "code",
   "execution_count": 41,
   "id": "4766166d",
   "metadata": {},
   "outputs": [
    {
     "name": "stdout",
     "output_type": "stream",
     "text": [
      "Take a look at garage_yr_blt and year_built where the garage and the house built at the same year:\n",
      "       garage_yr_blt  year_built\n",
      "0            1976.0        1976\n",
      "2            1953.0        1953\n",
      "5            1966.0        1966\n",
      "6            2005.0        2005\n",
      "7            1959.0        1959\n",
      "...             ...         ...\n",
      "2044         1995.0        1995\n",
      "2045         2008.0        2008\n",
      "2046         2007.0        2007\n",
      "2049         1956.0        1956\n",
      "2050         1999.0        1999\n",
      "\n",
      "[1564 rows x 2 columns]\n",
      "\n",
      "Percentage of where the garage and the house were built at the same year:\n",
      " 0.7625548512920527\n"
     ]
    }
   ],
   "source": [
    "# Explore in null values of garage_yr_blt feature \n",
    "print(f\"Take a look at garage_yr_blt and year_built where the garage and the house built at the same year:\\n {df_num[['garage_yr_blt','year_built']][df_num['garage_yr_blt']==df_num['year_built']]}\")\n",
    "print(f\"\\nPercentage of where the garage and the house were built at the same year:\\n {df_num[['garage_yr_blt','year_built']][df_num['garage_yr_blt']==df_num['year_built']].shape[0]/df_num.shape[0]}\")"
   ]
  },
  {
   "cell_type": "code",
   "execution_count": 43,
   "id": "322da26e",
   "metadata": {},
   "outputs": [],
   "source": [
    "# Replace garage_yr_blt null values with equivalent year in year_built\n",
    "df_num['garage_yr_blt'].fillna(df_num['year_built'], inplace=True)"
   ]
  },
  {
   "cell_type": "code",
   "execution_count": 47,
   "id": "6e4523d8",
   "metadata": {},
   "outputs": [],
   "source": [
    "# Drop remaining null values\n",
    "df_num.dropna(inplace=True)"
   ]
  },
  {
   "cell_type": "code",
   "execution_count": null,
   "id": "acd6cf3e",
   "metadata": {},
   "outputs": [],
   "source": []
  },
  {
   "cell_type": "code",
   "execution_count": null,
   "id": "25f88a10",
   "metadata": {},
   "outputs": [],
   "source": []
  },
  {
   "cell_type": "code",
   "execution_count": null,
   "id": "028a7fec",
   "metadata": {},
   "outputs": [],
   "source": []
  },
  {
   "cell_type": "code",
   "execution_count": null,
   "id": "317be71f",
   "metadata": {},
   "outputs": [],
   "source": []
  },
  {
   "cell_type": "code",
   "execution_count": null,
   "id": "509eec08",
   "metadata": {},
   "outputs": [],
   "source": [
    "df_final = df_train.select_dtypes(include=[int, float])"
   ]
  },
  {
   "cell_type": "code",
   "execution_count": null,
   "id": "a4d363f1",
   "metadata": {},
   "outputs": [],
   "source": [
    "# adding neighborhood columns from train dataset\n",
    "df_final = pd.merge(df_final, df_train[['id', 'neighborhood']], on='id', how='left')"
   ]
  },
  {
   "cell_type": "code",
   "execution_count": null,
   "id": "424ebe5f",
   "metadata": {},
   "outputs": [],
   "source": [
    "df_final.isna().sum()"
   ]
  },
  {
   "cell_type": "code",
   "execution_count": null,
   "id": "ead67245",
   "metadata": {},
   "outputs": [],
   "source": [
    "df_final['neighborhood'].value_counts()"
   ]
  },
  {
   "cell_type": "code",
   "execution_count": null,
   "id": "327f0eca",
   "metadata": {},
   "outputs": [],
   "source": [
    "df_final.shape"
   ]
  },
  {
   "cell_type": "code",
   "execution_count": null,
   "id": "b441c9a2",
   "metadata": {},
   "outputs": [],
   "source": [
    "df_final.describe()"
   ]
  },
  {
   "cell_type": "code",
   "execution_count": null,
   "id": "9816a47f",
   "metadata": {},
   "outputs": [],
   "source": [
    "df_final.isna().sum()"
   ]
  },
  {
   "cell_type": "code",
   "execution_count": null,
   "id": "01f39a5c",
   "metadata": {},
   "outputs": [],
   "source": [
    "# filled null values with mean in lot_frontage\n",
    "df_final['lot_frontage'] = df_final['lot_frontage'].fillna(df_final['lot_frontage'].mean())"
   ]
  },
  {
   "cell_type": "code",
   "execution_count": null,
   "id": "9b8784f8",
   "metadata": {},
   "outputs": [],
   "source": [
    "df_final['lot_frontage'].value_counts()"
   ]
  },
  {
   "cell_type": "code",
   "execution_count": null,
   "id": "1bb70ba4",
   "metadata": {},
   "outputs": [],
   "source": [
    "df_final['full_bath'].value_counts()"
   ]
  },
  {
   "cell_type": "code",
   "execution_count": null,
   "id": "81e29ef8",
   "metadata": {},
   "outputs": [],
   "source": [
    "df_final = df_final[df_final['full_bath'] > 0]"
   ]
  },
  {
   "cell_type": "code",
   "execution_count": null,
   "id": "e87f21c3",
   "metadata": {},
   "outputs": [],
   "source": [
    "df_final['totrms_abvgrd'].value_counts()"
   ]
  },
  {
   "cell_type": "code",
   "execution_count": null,
   "id": "912de5bb",
   "metadata": {},
   "outputs": [],
   "source": [
    "df_final = df_final[df_final['totrms_abvgrd'] < 13]"
   ]
  },
  {
   "cell_type": "code",
   "execution_count": null,
   "id": "e961afe3",
   "metadata": {},
   "outputs": [],
   "source": [
    "# Dropping unusefull columns\n",
    "df_final = df_final.drop(columns = ['garage_yr_blt', 'pid'])"
   ]
  },
  {
   "cell_type": "code",
   "execution_count": null,
   "id": "624fe8fb",
   "metadata": {},
   "outputs": [],
   "source": [
    "df_final.dropna(inplace=True)"
   ]
  },
  {
   "cell_type": "code",
   "execution_count": null,
   "id": "1b450b0a",
   "metadata": {},
   "outputs": [],
   "source": [
    "# Got better r2 score by using that but because of dat dictionary, I'm not gonna use that!!\n",
    "##df_final = pd.get_dummies(data=df_final, columns= ['neighborhood'], prefix = None)"
   ]
  },
  {
   "cell_type": "code",
   "execution_count": null,
   "id": "a104f1ed",
   "metadata": {},
   "outputs": [],
   "source": [
    "##df_final = pd.merge(df_final, df_train[['id', 'neighborhood']], on='id', how='left')"
   ]
  },
  {
   "cell_type": "code",
   "execution_count": null,
   "id": "c437ccb0",
   "metadata": {},
   "outputs": [],
   "source": [
    "df_final['year_bt_bu_ren'] = df_final['year_remod/add'] - df_final['year_built']"
   ]
  },
  {
   "cell_type": "code",
   "execution_count": null,
   "id": "ba6889bd",
   "metadata": {},
   "outputs": [],
   "source": [
    "df_final['year_bt_bu_ren'].value_counts()"
   ]
  },
  {
   "cell_type": "code",
   "execution_count": null,
   "id": "c54dacf2",
   "metadata": {},
   "outputs": [],
   "source": [
    "df_final.shape"
   ]
  },
  {
   "cell_type": "code",
   "execution_count": null,
   "id": "235eb24a",
   "metadata": {},
   "outputs": [],
   "source": [
    "df_final.dtypes"
   ]
  },
  {
   "cell_type": "code",
   "execution_count": null,
   "id": "6c675b4e",
   "metadata": {},
   "outputs": [],
   "source": [
    "df_final['neighborhood'].value_counts()"
   ]
  },
  {
   "cell_type": "code",
   "execution_count": null,
   "id": "67f8002a",
   "metadata": {},
   "outputs": [],
   "source": [
    "#save and export new dataset\n",
    "df_final.to_csv('../data/final')"
   ]
  },
  {
   "cell_type": "markdown",
   "id": "b6856409",
   "metadata": {},
   "source": [
    "## Exploratory Data Analysis"
   ]
  },
  {
   "cell_type": "code",
   "execution_count": null,
   "id": "25e2b55f",
   "metadata": {},
   "outputs": [],
   "source": [
    "# correlation between features and target\n",
    "plt.figure(figsize= (10,8))\n",
    "sns.heatmap(df_final.corr()[['saleprice']].sort_values(by='saleprice', ascending=False),\n",
    "           annot=True,\n",
    "           vmin=-1,\n",
    "           vmax=1,\n",
    "           cmap = 'coolwarm');"
   ]
  },
  {
   "cell_type": "markdown",
   "id": "003fdeea",
   "metadata": {},
   "source": [
    "### Creating my model based on major features"
   ]
  },
  {
   "cell_type": "code",
   "execution_count": null,
   "id": "4aab53c9",
   "metadata": {},
   "outputs": [],
   "source": [
    "df_final.corr()[['saleprice']].sort_values(by='saleprice', ascending=False)"
   ]
  },
  {
   "cell_type": "code",
   "execution_count": null,
   "id": "6451d9a9",
   "metadata": {},
   "outputs": [],
   "source": [
    "# Defining X and y\n",
    "X = df_final.drop(columns = ['saleprice', 'id', 'neighborhood'], axis =1)\n",
    "y = df_final['saleprice']"
   ]
  },
  {
   "cell_type": "code",
   "execution_count": null,
   "id": "9df65b1a",
   "metadata": {},
   "outputs": [],
   "source": [
    "# spliting X and y to train and test\n",
    "X_train, X_test, y_train, y_test = train_test_split(X, y, random_state=42)"
   ]
  },
  {
   "cell_type": "code",
   "execution_count": null,
   "id": "839529b7",
   "metadata": {},
   "outputs": [],
   "source": [
    "# Standardizing\n",
    "ss = StandardScaler()\n",
    "X_train = ss.fit_transform(X_train)\n",
    "X_test = ss.transform(X_test)"
   ]
  },
  {
   "cell_type": "code",
   "execution_count": null,
   "id": "626ec563",
   "metadata": {},
   "outputs": [],
   "source": [
    "lr = LinearRegression()"
   ]
  },
  {
   "cell_type": "code",
   "execution_count": null,
   "id": "4e9672c4",
   "metadata": {},
   "outputs": [],
   "source": [
    "# fir my Linear model to train data\n",
    "lr.fit(X_train, y_train)"
   ]
  },
  {
   "cell_type": "markdown",
   "id": "225813f6",
   "metadata": {},
   "source": [
    "### Evaluating my model"
   ]
  },
  {
   "cell_type": "code",
   "execution_count": null,
   "id": "e571333f",
   "metadata": {},
   "outputs": [],
   "source": [
    "#Train score\n",
    "lr.score(X_train, y_train)"
   ]
  },
  {
   "cell_type": "code",
   "execution_count": null,
   "id": "7f3a6ab5",
   "metadata": {},
   "outputs": [],
   "source": [
    "#test score\n",
    "lr.score(X_test, y_test)"
   ]
  },
  {
   "cell_type": "code",
   "execution_count": null,
   "id": "177ab76b",
   "metadata": {},
   "outputs": [],
   "source": [
    "lasso_cv = LassoCV(cv=5)\n",
    "lasso_cv.fit(X_train, y_train)"
   ]
  },
  {
   "cell_type": "code",
   "execution_count": null,
   "id": "759b755d",
   "metadata": {},
   "outputs": [],
   "source": [
    "# lasso train score\n",
    "lasso_cv.score(X_train, y_train)"
   ]
  },
  {
   "cell_type": "code",
   "execution_count": null,
   "id": "5b986054",
   "metadata": {},
   "outputs": [],
   "source": [
    "# lasso test score\n",
    "lasso_cv.score(X_test, y_test)"
   ]
  },
  {
   "cell_type": "code",
   "execution_count": null,
   "id": "343da10d",
   "metadata": {},
   "outputs": [],
   "source": [
    "coef_df = pd.DataFrame({'features': X.columns, 'coefs': lasso_cv.coef_})\n",
    "coef_df.sort_values('coefs', ascending = False).head(10)"
   ]
  },
  {
   "cell_type": "code",
   "execution_count": null,
   "id": "5c3b1125",
   "metadata": {},
   "outputs": [],
   "source": [
    "coef_df.sort_values('coefs', ascending = False).tail()"
   ]
  },
  {
   "cell_type": "markdown",
   "id": "f31cd912",
   "metadata": {},
   "source": [
    "### Line Assumption"
   ]
  },
  {
   "cell_type": "code",
   "execution_count": null,
   "id": "98b45e73",
   "metadata": {},
   "outputs": [],
   "source": [
    "# L Linear Regression\n",
    "plt.figure(figsize=(15,10))\n",
    "plt.scatter(df_final['gr_liv_area'], df_final['saleprice'], edgecolor = 'black')\n",
    "plt.title('Relationship Between Above Ground Living Area and Sale Price', fontsize='17')\n",
    "plt.xlabel('Above Ground Living Area Square Feet', fontsize=14)\n",
    "plt.ylabel('House Sale Price', fontsize=14);"
   ]
  },
  {
   "cell_type": "code",
   "execution_count": null,
   "id": "88f64891",
   "metadata": {},
   "outputs": [],
   "source": [
    "# N-Normality of error\n",
    "y_preds = lasso_cv.predict(X_train)\n",
    "resids = y_train - y_preds\n",
    "plt.hist(resids, bins = 50, edgecolor = 'black');\n",
    "# Fine"
   ]
  },
  {
   "cell_type": "code",
   "execution_count": null,
   "id": "e38a198a",
   "metadata": {},
   "outputs": [],
   "source": [
    "# E-Equality variance of errors\n",
    "# Residual plot\n",
    "plt.figure(figsize=(5,5))\n",
    "plt.scatter(y_preds, resids, s=1)\n",
    "plt.axhline(0, color='orange');"
   ]
  },
  {
   "cell_type": "markdown",
   "id": "efa358b8",
   "metadata": {},
   "source": [
    "## Visualization"
   ]
  },
  {
   "cell_type": "code",
   "execution_count": null,
   "id": "62786a83",
   "metadata": {},
   "outputs": [],
   "source": [
    "plt.figure(figsize=(15,10))\n",
    "plt.scatter(df_final['gr_liv_area'], df_final['saleprice'], c='gold', edgecolor = 'black')\n",
    "plt.title('Relationship Between Above Ground Living Area and Sale Price', fontsize='17')\n",
    "plt.xlabel('Above Ground Living Area Square Feet', fontsize=14)\n",
    "plt.ylabel('House Sale Price', fontsize=14);"
   ]
  },
  {
   "cell_type": "code",
   "execution_count": null,
   "id": "928bac87",
   "metadata": {},
   "outputs": [],
   "source": [
    "plt.figure(figsize=(15,10))\n",
    "plt.scatter(df_final['garage_area'] , df_final['saleprice'], c='orange', edgecolor='black')\n",
    "plt.title('Relationship Between Garage Area and Sale Price', fontsize=17)\n",
    "plt.xlabel('Garage Area in Square Feet', fontsize=14)\n",
    "plt.ylabel('House Sale Price', fontsize=14);"
   ]
  },
  {
   "cell_type": "code",
   "execution_count": null,
   "id": "746662ca",
   "metadata": {},
   "outputs": [],
   "source": [
    "plt.figure(figsize=(15,10))\n",
    "plt.bar(df_final['garage_cars'], df_final['saleprice'], color = ['gold', 'gold', 'gold', 'gold', 'gold', 'gold'])\n",
    "plt.xticks(df_final['garage_cars'])\n",
    "plt.yticks()\n",
    "plt.title('The Relationship Between Number of Car Space Park and Sale Price', fontsize=17)\n",
    "plt.xlabel('Number Of Car Space Park', fontsize=14)\n",
    "plt.ylabel('House Sale Price', fontsize=14);"
   ]
  },
  {
   "cell_type": "code",
   "execution_count": null,
   "id": "aed5cec9",
   "metadata": {},
   "outputs": [],
   "source": [
    "plt.figure(figsize=(15,10))\n",
    "plt.scatter(df_final['total_bsmt_sf'], df_final['saleprice'], edgecolor = 'black')\n",
    "plt.title('Relationship Between Total Basement Area and Sale Price', fontsize='17')\n",
    "plt.xlabel('Total Basement Area in Square Feet', fontsize=14)\n",
    "plt.ylabel('House Sale Price', fontsize=14);"
   ]
  },
  {
   "cell_type": "code",
   "execution_count": null,
   "id": "84ebd3e2",
   "metadata": {},
   "outputs": [],
   "source": [
    "plt.figure(figsize=(15,10))\n",
    "plt.scatter(df_final['1st_flr_sf'], df_final['saleprice'], c= 'gold',edgecolor = 'black')\n",
    "plt.title('Relationship Between First Floor Area and Sale Price', fontsize='17')\n",
    "plt.xlabel('First Floor Area in Square Feet', fontsize=14)\n",
    "plt.ylabel('House Sale Price', fontsize=14);"
   ]
  },
  {
   "cell_type": "code",
   "execution_count": null,
   "id": "6896d39d",
   "metadata": {},
   "outputs": [],
   "source": [
    "plt.figure(figsize=(15,10))\n",
    "plt.scatter(df_final['2nd_flr_sf'], df_final['saleprice'], edgecolor = 'black')\n",
    "plt.title('Relationship Between Second Floor Area and Sale Price', fontsize='17')\n",
    "plt.xlabel('Second Floor Area in Square Feet', fontsize=14)\n",
    "plt.ylabel('House Sale Price', fontsize=14);"
   ]
  },
  {
   "cell_type": "code",
   "execution_count": null,
   "id": "cec3ddb2",
   "metadata": {},
   "outputs": [],
   "source": [
    "df_final['full_bath'].astype('object')"
   ]
  },
  {
   "cell_type": "code",
   "execution_count": null,
   "id": "647da6bb",
   "metadata": {},
   "outputs": [],
   "source": [
    "plt.figure(figsize=(15,10))\n",
    "plt.bar(df_final['full_bath'], df_final['saleprice'], color = ['gold', 'gold', 'gold', 'gold'])\n",
    "plt.xticks(df_final['full_bath'])\n",
    "plt.title('The Relationship Between Number of Full-Bathroom and Sale Price', fontsize=17)\n",
    "plt.xlabel('Number of Full-Bathroom', fontsize=14)\n",
    "plt.ylabel('House Sale Price', fontsize=14);"
   ]
  },
  {
   "cell_type": "code",
   "execution_count": null,
   "id": "78b8794c",
   "metadata": {},
   "outputs": [],
   "source": [
    "plt.figure(figsize=(15,10))\n",
    "plt.bar(df_final['totrms_abvgrd'], df_final['saleprice'])\n",
    "plt.xticks(df_final['totrms_abvgrd'])\n",
    "plt.yticks()\n",
    "plt.title('Relationship of Total Rooms and Sale Price', fontsize=17)\n",
    "plt.xlabel('Number of Total Rooms', fontsize=14)\n",
    "plt.ylabel('House Sale Price', fontsize=14);"
   ]
  },
  {
   "cell_type": "code",
   "execution_count": null,
   "id": "7bcc8dff",
   "metadata": {},
   "outputs": [],
   "source": [
    "plt.figure(figsize=(40,30))\n",
    "plt.bar(df_final['neighborhood'], df_final['saleprice'])\n",
    "plt.xticks(df_final['neighborhood'])\n",
    "plt.title('Relationship Number Of Available Car Space Park and Sale Price', fontsize=17)\n",
    "plt.xlabel('Number Of Car Space Park', fontsize=14)\n",
    "plt.ylabel('House Sale Price', fontsize=14);"
   ]
  },
  {
   "cell_type": "code",
   "execution_count": null,
   "id": "53147f4d",
   "metadata": {},
   "outputs": [],
   "source": [
    "df_final.corr()[['saleprice']].sort_values(by='saleprice', ascending=False)"
   ]
  },
  {
   "cell_type": "code",
   "execution_count": null,
   "id": "8990d0a0",
   "metadata": {},
   "outputs": [],
   "source": [
    "plt.figure(figsize=(15,10))\n",
    "plt.bar(df_final['overall_qual'], df_final['saleprice'])\n",
    "plt.xticks(df_final['overall_qual'])\n",
    "plt.yticks();"
   ]
  }
 ],
 "metadata": {
  "kernelspec": {
   "display_name": "Python 3 (ipykernel)",
   "language": "python",
   "name": "python3"
  },
  "language_info": {
   "codemirror_mode": {
    "name": "ipython",
    "version": 3
   },
   "file_extension": ".py",
   "mimetype": "text/x-python",
   "name": "python",
   "nbconvert_exporter": "python",
   "pygments_lexer": "ipython3",
   "version": "3.9.13"
  }
 },
 "nbformat": 4,
 "nbformat_minor": 5
}
