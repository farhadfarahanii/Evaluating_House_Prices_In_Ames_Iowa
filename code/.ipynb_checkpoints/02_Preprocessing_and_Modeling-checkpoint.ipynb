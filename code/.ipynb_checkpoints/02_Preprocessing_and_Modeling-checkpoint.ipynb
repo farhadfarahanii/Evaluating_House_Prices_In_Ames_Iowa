{
 "cells": [
  {
   "cell_type": "markdown",
   "id": "d63e8f2e",
   "metadata": {},
   "source": [
    "|Feature|Type|Description|\n",
    "|---|---|---|\n",
    "|SalePrice|Numeric(Continious)|the property's sale price in dollars. This is the target variable that you're trying to predict|.\n",
    "|MSSubClass|Numeric(Discrete)|The building class|\n",
    "|MSZoning|Object(Cetagorical)|The general zoning classification|\n",
    "|LotFrontage|Numeric(Continious)|Linear feet of street connected to property|\n",
    "|LotArea|Numeric(Continious)|Lot size in square feet|\n",
    "|Street|Object(Cetagorical)|Type of road access|\n",
    "|Alley|Object(Cetagorical)|Type of alley access|\n",
    "|LotShape|Object(Cetagorical)|General shape of property|\n",
    "|LandContour|Object(Categorical)|Flatness of the property|\n",
    "|Utilities|Object(Categorical)|Type of utilities available|\n",
    "|LotConfig|Object(Categorical)|Lot configuration|\n",
    "|LandSlope|Object(Categorical)|Slope of property|\n",
    "|Neighborhood|Object(Categorical)|Physical locations within Ames city limits|\n",
    "|Condition1|Object(Categorical)|Proximity to main road or railroad|\n",
    "|Condition2|Object(Categorical)|Proximity to main road or railroad (if a second is present)|\n",
    "|BldgType|Object(Categorical)|Type of dwelling|\n",
    "|HouseStyle|Object(Categorical)|Style of dwelling|\n",
    "|OverallQual|Numeric(Discrete)|Overall material and finish quality|\n",
    "|OverallCond|Numeric(Discrete)|Overall condition rating|\n",
    "|YearBuilt|Numeric(Discrete)|Original construction date|\n",
    "|YearRemodAdd|Numeric(Discrete)|Remodel date|\n",
    "|RoofStyle|Object(Categorical)|Type of roof|\n",
    "|RoofMatl|Object(Categorical)|Roof material|\n",
    "|Exterior1st|Object(Categorical)|Exterior covering on house|\n",
    "|Exterior2nd|Object(Categorical)|Exterior covering on house (if more than one material)|\n",
    "|MasVnrType|Object(Categorical)|Masonry veneer type|\n",
    "|MasVnrArea|Numeric(Continious)|Masonry veneer area in square feet|\n",
    "|ExterQual|Object(Categorical)|Exterior material quality|\n",
    "|ExterCond|Object(Categorical)|Present condition of the material on the exterior|\n",
    "|Foundation|Object(Categorical)|Type of foundation|\n",
    "|BsmtQual|Object(Categorical)|Height of the basement|\n",
    "|BsmtCond|Object(Categorical)|General condition of the basement|\n",
    "|BsmtExposure|Object(Categorical)|Walkout or garden level basement walls|\n",
    "|BsmtFinType1|Object(Categorical)|Quality of basement finished area|\n",
    "|BsmtFinSF1|Numeric(Continious)|Type 1 finished square feet|\n",
    "|BsmtFinType2|Object(Categorical)|Quality of second finished area (if present)|\n",
    "|BsmtFinSF2|Numeric(Continious)|Type 2 finished square feet|\n",
    "|BsmtUnfSF|Numeric(Continious)|Unfinished square feet of basement area|\n",
    "|TotalBsmtSF|Numeric(Continious)|Total square feet of basement area|\n",
    "|Heating|Object(Categorical)|Type of heating|\n",
    "|HeatingQC|Object(Categorical)|Heating quality and condition|\n",
    "|CentralAir|Object(Categorical)|Central air conditioning|\n",
    "|Electrical|Object(Categorical)|Electrical system|\n",
    "|1stFlrSF|Numeric(Continious)|First Floor square feet|\n",
    "|2ndFlrSF|Numeric(Continious)|Second floor square feet|\n",
    "|LowQualFinSF|Numeric(Continious)|Low quality finished square feet (all floors)|\n",
    "|GrLivArea|Numeric(Continious)|Above grade (ground) living area square feet|\n",
    "|BsmtFullBath|Numeric(Discrete)|Basement full bathrooms|\n",
    "|BsmtHalfBath|Numeric(Discrete)|Basement half bathrooms|\n",
    "|FullBath|Numeric(Discrete)|Full bathrooms above grade|\n",
    "|HalfBath|Numeric(Discrete)|Half baths above grade|\n",
    "|Bedroom|Numeric(Discrete)|Number of bedrooms above basement level|\n",
    "|Kitchen|Numeric(Discrete)|Number of kitchens|\n",
    "|KitchenQual|Object(Categorical)|Kitchen quality|\n",
    "|TotRmsAbvGrd|Numeric(Discrete)|Total rooms above grade (does not include bathrooms)|\n",
    "|Functional|Object(Categorical)|Home functionality rating|\n",
    "|Fireplaces|Numeric(Discrete)|Number of fireplaces|\n",
    "|FireplaceQu|Object(Categorical)|Fireplace quality|\n",
    "|GarageType|Object(Categorical)|Garage location|\n",
    "|GarageYrBlt|Numeric(Discrete)|Year garage was built|\n",
    "|GarageFinish|Object(Categorical)|Interior finish of the garage|\n",
    "|GarageCars|Numeric(Discrete)|Size of garage in car capacity|\n",
    "|GarageArea|Numeric(Continious)|Size of garage in square feet|\n",
    "|GarageQual|Object(Categorical)|Garage quality|\n",
    "|GarageCond|Object(Categorical)|Garage condition|\n",
    "|PavedDrive|Object(Categorical)|Paved driveway|\n",
    "|WoodDeckSF|Numeric(Continious)|Wood deck area in square feet|\n",
    "|OpenPorchSF|Numeric(Continious)|Open porch area in square feet|\n",
    "|EnclosedPorch|Numeric(Continious)|Enclosed porch area in square feet|\n",
    "|3SsnPorch|Numeric(Continious)|Three season porch area in square feet|\n",
    "|ScreenPorch|Numeric(Continious)|Screen porch area in square feet|\n",
    "|PoolArea|Numeric(Continious)|Pool area in square feet|\n",
    "|PoolQC|Object(Categorical)|Pool quality|\n",
    "|Fence|Object(Categorical)|Fence quality|\n",
    "|MiscFeature|Object(Categorical)|Miscellaneous feature not covered in other categories|\n",
    "|MiscVal|Numeric(Continious)|$Value of miscellaneous feature|\n",
    "|MoSold|Numeric(Discrete)|Month Sold|\n",
    "|YrSold|Numeric(Discrete)|Year Sold|\n",
    "|SaleType|Object(Categorical)|Type of sale|\n",
    "|SaleCondition|: |Condition of sale|"
   ]
  },
  {
   "cell_type": "markdown",
   "id": "af1678b7",
   "metadata": {},
   "source": [
    "## Imports"
   ]
  },
  {
   "cell_type": "code",
   "execution_count": 1,
   "id": "51b2772c",
   "metadata": {},
   "outputs": [],
   "source": [
    "import pandas as pd\n",
    "import matplotlib.pyplot as plt\n",
    "import seaborn as sns\n",
    "import numpy as np\n",
    "\n",
    "from sklearn.linear_model import LinearRegression, RidgeCV, Lasso, LassoCV\n",
    "from sklearn.preprocessing import PolynomialFeatures, StandardScaler, OneHotEncoder\n",
    "from sklearn.model_selection import train_test_split, cross_val_score\n",
    "from sklearn.compose import ColumnTransformer\n",
    "\n",
    "pd.set_option(\"display.max_colwidth\", None)"
   ]
  },
  {
   "cell_type": "markdown",
   "id": "600eb827",
   "metadata": {},
   "source": [
    "### Load Dataset"
   ]
  },
  {
   "cell_type": "code",
   "execution_count": 2,
   "id": "4fedb4ee",
   "metadata": {},
   "outputs": [],
   "source": [
    "# Load dataset and make a datframe based on that\n",
    "df = pd.read_csv(\"../data/cleaned_dataset.csv\").drop(\"Unnamed: 0\", axis=1)"
   ]
  },
  {
   "cell_type": "code",
   "execution_count": 3,
   "id": "d292adc5",
   "metadata": {},
   "outputs": [
    {
     "name": "stdout",
     "output_type": "stream",
     "text": [
      "Sample Data :    Id        PID  MS SubClass MS Zoning  Lot Area Lot Shape Land Contour  \\\n",
      "0  109  533352170           60        RL     13517       IR1          Lvl   \n",
      "1  544  531379050           60        RL     11492       IR1          Lvl   \n",
      "2  153  535304180           20        RL      7922       Reg          Lvl   \n",
      "3  318  916386060           60        RL      9802       Reg          Lvl   \n",
      "4  255  906425045           50        RL     14235       IR1          Lvl   \n",
      "\n",
      "  Lot Config Land Slope Neighborhood  ... Garage Cond Paved Drive  \\\n",
      "0    CulDSac        Gtl       Sawyer  ...          TA           Y   \n",
      "1    CulDSac        Gtl  Sawyer West  ...          TA           Y   \n",
      "2     Inside        Gtl   North Ames  ...          TA           Y   \n",
      "3     Inside        Gtl   Timberland  ...          TA           Y   \n",
      "4     Inside        Gtl  Sawyer West  ...          TA           N   \n",
      "\n",
      "  Wood Deck SF  Open Porch SF  Enclosed Porch  Screen Porch  Mo Sold Yr Sold  \\\n",
      "0            0             44               0             0        3    2010   \n",
      "1            0             74               0             0        4    2009   \n",
      "2            0             52               0             0        1    2010   \n",
      "3          100              0               0             0        4    2010   \n",
      "4            0             59               0             0        3    2010   \n",
      "\n",
      "  Sale Type SalePrice  \n",
      "0       WD     130500  \n",
      "1       WD     220000  \n",
      "2       WD     109000  \n",
      "3       WD     174000  \n",
      "4       WD     138500  \n",
      "\n",
      "[5 rows x 66 columns]\n",
      "\n",
      "--------------------------\n",
      "\n",
      " Columns : ['Id', 'PID', 'MS SubClass', 'MS Zoning', 'Lot Area', 'Lot Shape', 'Land Contour', 'Lot Config', 'Land Slope', 'Neighborhood', 'Condition 1', 'Bldg Type', 'House Style', 'Overall Qual', 'Overall Cond', 'Year Built', 'Year Remod/Add', 'Roof Style', 'Exterior 1st', 'Exterior 2nd', 'Mas Vnr Type', 'Mas Vnr Area', 'Exter Qual', 'Exter Cond', 'Foundation', 'Bsmt Qual', 'Bsmt Cond', 'Bsmt Exposure', 'BsmtFin Type 1', 'BsmtFin SF 1', 'BsmtFin Type 2', 'BsmtFin SF 2', 'Bsmt Unf SF', 'Total Bsmt SF', 'Heating QC', 'Central Air', 'Electrical', '1st Flr SF', '2nd Flr SF', 'Gr Liv Area', 'Bsmt Full Bath', 'Bsmt Half Bath', 'Full Bath', 'Half Bath', 'Bedroom AbvGr', 'Kitchen AbvGr', 'Kitchen Qual', 'TotRms AbvGrd', 'Functional', 'Fireplaces', 'Garage Type', 'Garage Yr Blt', 'Garage Finish', 'Garage Cars', 'Garage Area', 'Garage Qual', 'Garage Cond', 'Paved Drive', 'Wood Deck SF', 'Open Porch SF', 'Enclosed Porch', 'Screen Porch', 'Mo Sold', 'Yr Sold', 'Sale Type', 'SalePrice']\n",
      "\n",
      "--------------------------\n",
      "\n",
      " Size of the dataset : 1997\n",
      "\n",
      "--------------------------\n",
      "\n",
      " Total number of features : 66\n",
      "\n",
      "--------------------------\n",
      "\n",
      " Number of numerical features: 34\n",
      "\n",
      "--------------------------\n",
      "\n",
      " Number of categorical features: 32\n"
     ]
    }
   ],
   "source": [
    "# Get some basic information of our dataframe\n",
    "print(f\"Sample Data :{df.head()}\")\n",
    "print(f\"\\n--------------------------\\n\\n Columns : {[i for i in df.columns]}\")\n",
    "print(f\"\\n--------------------------\\n\\n Size of the dataset : {df.shape[0]}\")\n",
    "print(f\"\\n--------------------------\\n\\n Total number of features : {df.shape[1]}\")\n",
    "print(f\"\\n--------------------------\\n\\n Number of numerical features: {df.select_dtypes(include=[int, float]).shape[1]}\")\n",
    "print(f\"\\n--------------------------\\n\\n Number of categorical features: {df.select_dtypes(include=[object]).shape[1]}\")"
   ]
  },
  {
   "cell_type": "code",
   "execution_count": 4,
   "id": "f7bbd638",
   "metadata": {},
   "outputs": [
    {
     "data": {
      "text/plain": [
       "Index(['MS SubClass', 'Lot Area', 'Overall Qual', 'Overall Cond', 'Year Built',\n",
       "       'Year Remod/Add', 'Mas Vnr Area', 'BsmtFin SF 1', 'BsmtFin SF 2',\n",
       "       'Bsmt Unf SF', 'Total Bsmt SF', '1st Flr SF', '2nd Flr SF',\n",
       "       'Gr Liv Area', 'Bsmt Full Bath', 'Bsmt Half Bath', 'Full Bath',\n",
       "       'Half Bath', 'Bedroom AbvGr', 'Kitchen AbvGr', 'TotRms AbvGrd',\n",
       "       'Fireplaces', 'Garage Yr Blt', 'Garage Cars', 'Garage Area',\n",
       "       'Wood Deck SF', 'Open Porch SF', 'Enclosed Porch', 'Screen Porch',\n",
       "       'Mo Sold', 'Yr Sold'],\n",
       "      dtype='object')"
      ]
     },
     "execution_count": 4,
     "metadata": {},
     "output_type": "execute_result"
    }
   ],
   "source": [
    "# Define numerical values\n",
    "# We don't need \"PID\" and \"Id\" because they can't be considered as impactful features on our target\n",
    "# We drop \"SalePrice\" because it's our target and we just want to have our features\n",
    "num = df.select_dtypes(include = [int, float]).drop(columns=[\"Id\", \"PID\", \"SalePrice\"], axis=1)\n",
    "num.columns"
   ]
  },
  {
   "cell_type": "code",
   "execution_count": 5,
   "id": "8ff39f2c",
   "metadata": {},
   "outputs": [
    {
     "data": {
      "text/plain": [
       "MS SubClass         int64\n",
       "Lot Area            int64\n",
       "Overall Qual        int64\n",
       "Overall Cond        int64\n",
       "Year Built          int64\n",
       "Year Remod/Add      int64\n",
       "Mas Vnr Area      float64\n",
       "BsmtFin SF 1      float64\n",
       "BsmtFin SF 2      float64\n",
       "Bsmt Unf SF       float64\n",
       "Total Bsmt SF     float64\n",
       "1st Flr SF          int64\n",
       "2nd Flr SF          int64\n",
       "Gr Liv Area         int64\n",
       "Bsmt Full Bath    float64\n",
       "Bsmt Half Bath    float64\n",
       "Full Bath           int64\n",
       "Half Bath           int64\n",
       "Bedroom AbvGr       int64\n",
       "Kitchen AbvGr       int64\n",
       "TotRms AbvGrd       int64\n",
       "Fireplaces          int64\n",
       "Garage Yr Blt     float64\n",
       "Garage Cars       float64\n",
       "Garage Area       float64\n",
       "Wood Deck SF        int64\n",
       "Open Porch SF       int64\n",
       "Enclosed Porch      int64\n",
       "Screen Porch        int64\n",
       "Mo Sold             int64\n",
       "Yr Sold             int64\n",
       "dtype: object"
      ]
     },
     "execution_count": 5,
     "metadata": {},
     "output_type": "execute_result"
    }
   ],
   "source": [
    "num.dtypes"
   ]
  },
  {
   "cell_type": "markdown",
   "id": "23bf10c7",
   "metadata": {},
   "source": [
    "### Assemble Predictor Features (X) and Target (y) "
   ]
  },
  {
   "cell_type": "code",
   "execution_count": 6,
   "id": "b55bd437",
   "metadata": {},
   "outputs": [
    {
     "name": "stdout",
     "output_type": "stream",
     "text": [
      "The shape of X -------------- (1997, 31)\n",
      "The shape of y -------------- (1997,)\n"
     ]
    }
   ],
   "source": [
    "# Define X (features)\n",
    "# We don't need \"PID\" and \"Id\" because they can't be considered as impactful features on our target\n",
    "X = df.select_dtypes(include = [int, float]).drop(columns=[\"Id\", \"PID\", \"SalePrice\"], axis=1)\n",
    "\n",
    "# Define y (target)\n",
    "y= df[\"SalePrice\"]\n",
    "\n",
    "print(f\"The shape of X -------------- {X.shape}\")\n",
    "print(f\"The shape of y -------------- {y.shape}\")"
   ]
  },
  {
   "cell_type": "markdown",
   "id": "d9b5eca4",
   "metadata": {},
   "source": [
    "### Baseline Score"
   ]
  },
  {
   "cell_type": "code",
   "execution_count": 7,
   "id": "f4c79522",
   "metadata": {},
   "outputs": [],
   "source": [
    "# Instantiate Linear Regression Model\n",
    "lr = LinearRegression()"
   ]
  },
  {
   "cell_type": "code",
   "execution_count": 8,
   "id": "4d455e04",
   "metadata": {},
   "outputs": [
    {
     "name": "stdout",
     "output_type": "stream",
     "text": [
      "Our Baseline Score for predicting house pricing is ----------------- 0.8740433458838526\n"
     ]
    }
   ],
   "source": [
    "# Utilize cross_val_score for getting baseline score\n",
    "print(f\"Our Baseline Score for predicting house pricing is ----------------- {np.mean(cross_val_score(lr, X, y, cv=5))}\")"
   ]
  },
  {
   "cell_type": "markdown",
   "id": "881f2871",
   "metadata": {},
   "source": [
    "### Preprocessing on Categorical Features \n",
    "For using categorical features in our model, first we need to transform them into numeric values. In this part we will leverage map and one-hot encode for transforming them."
   ]
  },
  {
   "cell_type": "code",
   "execution_count": 60,
   "id": "4a4e28e0",
   "metadata": {},
   "outputs": [],
   "source": [
    "# Replace values with small numbers to \"Other\" in categorical variables\n",
    "df = df.replace({\n",
    "    \"MS Zoning\": {\"C (all)\": \"Other\", \"RH\": \"Other\", \"A (agr)\": \"Other\", \"I (all)\": \"Other\"},\n",
    "    \"Neighborhood\": {\"Blueste\": \"Other\", \"Greens\": \"Other\", \"GrnHill\": \"Other\", \"Landmrk\": \"Other\"},\n",
    "    \"Condition 1\": {\"RRNn\": \"Other\", \"RRNe\": \"Other\", \"PosA\": \"Other\"},\n",
    "    \"House Style\": {\"1.5Unf\": \"Other\", \"2.5Unf\": \"Other\", \"2.5Fin\": \"Other\"},\n",
    "    \"Roof Style\": {\"Mansard\": \"Other\", \"Shed\": \"Other\"},\n",
    "    \"Exterior 1st\": {\"BrkComm\": \"Other\", \"Stone\": \"Other\", \"CBlock\": \"Other\", \"ImStucc\": \"Other\", \"AsphShn\": \"Other\"},\n",
    "    \"Exterior 2nd\": {\"ImStucc\": \"Other\", \"Stone\": \"Other\", \"AsphShn\": \"Other\", \"CBlock\": \"Other\"},\n",
    "    \"Exter Cond\": {\"Ex\": \"Other\", \"Po\": \"Other\"},\n",
    "    \"Foundation\": {\"Stone\": \"Other\", \"Wood\": \"Other\", \"Slab\": \"Other\"},\n",
    "    \"Electrical\": {\"FuseP\": \"Other\", \"Mix\": \"Other\"},\n",
    "    \"Functional\": {\"Maj2\": \"Other\", \"Sev\": \"Other\", \"Sal\": \"Other\"},\n",
    "    \"Sale Type\": {\"ConLD\": \"Other\", \"CWD\": \"Other\", \"ConLI\": \"Other\", \"ConLw\": \"Other\", \"Con\": \"Other\", \"Oth\": \"Other\"}    \n",
    "                })"
   ]
  },
  {
   "cell_type": "code",
   "execution_count": 9,
   "id": "ffaedba7",
   "metadata": {},
   "outputs": [
    {
     "data": {
      "text/plain": [
       "Index(['MS Zoning', 'Lot Shape', 'Land Contour', 'Lot Config', 'Land Slope',\n",
       "       'Neighborhood', 'Condition 1', 'Bldg Type', 'House Style', 'Roof Style',\n",
       "       'Exterior 1st', 'Exterior 2nd', 'Mas Vnr Type', 'Exter Qual',\n",
       "       'Exter Cond', 'Foundation', 'Bsmt Qual', 'Bsmt Cond', 'Bsmt Exposure',\n",
       "       'BsmtFin Type 1', 'BsmtFin Type 2', 'Heating QC', 'Central Air',\n",
       "       'Electrical', 'Kitchen Qual', 'Functional', 'Garage Type',\n",
       "       'Garage Finish', 'Garage Qual', 'Garage Cond', 'Paved Drive',\n",
       "       'Sale Type'],\n",
       "      dtype='object')"
      ]
     },
     "execution_count": 9,
     "metadata": {},
     "output_type": "execute_result"
    }
   ],
   "source": [
    "cat = df.select_dtypes(include=\"object\")\n",
    "cat.columns"
   ]
  },
  {
   "cell_type": "code",
   "execution_count": null,
   "id": "220eea76",
   "metadata": {},
   "outputs": [],
   "source": []
  }
 ],
 "metadata": {
  "kernelspec": {
   "display_name": "Python 3 (ipykernel)",
   "language": "python",
   "name": "python3"
  },
  "language_info": {
   "codemirror_mode": {
    "name": "ipython",
    "version": 3
   },
   "file_extension": ".py",
   "mimetype": "text/x-python",
   "name": "python",
   "nbconvert_exporter": "python",
   "pygments_lexer": "ipython3",
   "version": "3.9.13"
  }
 },
 "nbformat": 4,
 "nbformat_minor": 5
}
